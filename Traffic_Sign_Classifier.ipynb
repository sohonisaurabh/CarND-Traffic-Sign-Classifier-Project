{
 "cells": [
  {
   "cell_type": "markdown",
   "metadata": {},
   "source": [
    "# Self-Driving Car Engineer Nanodegree\n",
    "\n",
    "## Deep Learning\n",
    "\n",
    "## Project: Build a Traffic Sign Recognition Classifier\n",
    "\n",
    "In this notebook, a template is provided for you to implement your functionality in stages, which is required to successfully complete this project. If additional code is required that cannot be included in the notebook, be sure that the Python code is successfully imported and included in your submission if necessary. \n",
    "\n",
    "> **Note**: Once you have completed all of the code implementations, you need to finalize your work by exporting the iPython Notebook as an HTML document. Before exporting the notebook to html, all of the code cells need to have been run so that reviewers can see the final implementation and output. You can then export the notebook by using the menu above and navigating to  \\n\",\n",
    "    \"**File -> Download as -> HTML (.html)**. Include the finished document along with this notebook as your submission. \n",
    "\n",
    "In addition to implementing code, there is a writeup to complete. The writeup should be completed in a separate file, which can be either a markdown file or a pdf document. There is a [write up template](https://github.com/udacity/CarND-Traffic-Sign-Classifier-Project/blob/master/writeup_template.md) that can be used to guide the writing process. Completing the code template and writeup template will cover all of the [rubric points](https://review.udacity.com/#!/rubrics/481/view) for this project.\n",
    "\n",
    "The [rubric](https://review.udacity.com/#!/rubrics/481/view) contains \"Stand Out Suggestions\" for enhancing the project beyond the minimum requirements. The stand out suggestions are optional. If you decide to pursue the \"stand out suggestions\", you can include the code in this Ipython notebook and also discuss the results in the writeup file.\n",
    "\n",
    "\n",
    ">**Note:** Code and Markdown cells can be executed using the **Shift + Enter** keyboard shortcut. In addition, Markdown cells can be edited by typically double-clicking the cell to enter edit mode."
   ]
  },
  {
   "cell_type": "markdown",
   "metadata": {},
   "source": [
    "---\n",
    "## Step 0: Load The Data"
   ]
  },
  {
   "cell_type": "code",
   "execution_count": 77,
   "metadata": {
    "collapsed": false
   },
   "outputs": [],
   "source": [
    "# Load pickled data\n",
    "import pickle\n",
    "\n",
    "# TODO: Fill this in based on where you saved the training and testing data\n",
    "\n",
    "training_file = \"dataset/train.p\"\n",
    "validation_file= \"dataset/valid.p\"\n",
    "testing_file = \"dataset/test.p\"\n",
    "\n",
    "with open(training_file, mode='rb') as f:\n",
    "    train = pickle.load(f)\n",
    "with open(validation_file, mode='rb') as f:\n",
    "    valid = pickle.load(f)\n",
    "with open(testing_file, mode='rb') as f:\n",
    "    test = pickle.load(f)\n",
    "\n",
    "X_train, y_train = train['features'], train['labels']\n",
    "X_validation, y_validation = valid['features'], valid['labels']\n",
    "X_test, y_test = test['features'], test['labels']\n",
    "\n",
    "assert(len(X_train) == len(y_train))\n",
    "assert(len(X_validation) == len(y_validation))\n",
    "assert(len(X_test) == len(y_test))\n",
    "#print (X_test, y_test)\n",
    "#print()\n",
    "#print(\"Image Shape: {}\".format(X_train[0].shape))\n",
    "#print()\n",
    "#print(\"Training Set:   {} samples\".format(len(X_train)))\n",
    "#print(\"Validation Set: {} samples\".format(len(X_validation)))\n",
    "#print(\"Test Set:       {} samples\".format(len(X_test)))\n"
   ]
  },
  {
   "cell_type": "markdown",
   "metadata": {},
   "source": [
    "---\n",
    "\n",
    "## Step 1: Dataset Summary & Exploration\n",
    "\n",
    "The pickled data is a dictionary with 4 key/value pairs:\n",
    "\n",
    "- `'features'` is a 4D array containing raw pixel data of the traffic sign images, (num examples, width, height, channels).\n",
    "- `'labels'` is a 1D array containing the label/class id of the traffic sign. The file `signnames.csv` contains id -> name mappings for each id.\n",
    "- `'sizes'` is a list containing tuples, (width, height) representing the the original width and height the image.\n",
    "- `'coords'` is a list containing tuples, (x1, y1, x2, y2) representing coordinates of a bounding box around the sign in the image. **THESE COORDINATES ASSUME THE ORIGINAL IMAGE. THE PICKLED DATA CONTAINS RESIZED VERSIONS (32 by 32) OF THESE IMAGES**\n",
    "\n",
    "Complete the basic data summary below. Use python, numpy and/or pandas methods to calculate the data summary rather than hard coding the results. For example, the [pandas shape method](http://pandas.pydata.org/pandas-docs/stable/generated/pandas.DataFrame.shape.html) might be useful for calculating some of the summary results. "
   ]
  },
  {
   "cell_type": "markdown",
   "metadata": {},
   "source": [
    "### Provide a Basic Summary of the Data Set Using Python, Numpy and/or Pandas"
   ]
  },
  {
   "cell_type": "code",
   "execution_count": 78,
   "metadata": {
    "collapsed": false
   },
   "outputs": [
    {
     "name": "stdout",
     "output_type": "stream",
     "text": [
      "Number of training examples = 34799\n",
      "Number of validation examples = 4410\n",
      "Number of testing examples = 12630\n",
      "Image data shape = 32x32\n",
      "Number of classes = 43\n"
     ]
    }
   ],
   "source": [
    "### Replace each question mark with the appropriate value. \n",
    "### Use python, pandas or numpy methods rather than hard coding the results\n",
    "import numpy as np\n",
    "\n",
    "# Number of training examples\n",
    "n_train = X_train.shape[0]\n",
    "\n",
    "#Number of validation examples\n",
    "n_validation = X_validation.shape[0]\n",
    "\n",
    "#Number of testing examples.\n",
    "n_test = X_test.shape[0]\n",
    "\n",
    "# TODO: What's the shape of an traffic sign image?\n",
    "image_shape = str(X_train[2].shape[0]) + \"x\" + str(X_train[2].shape[1])\n",
    "\n",
    "# TODO: How many unique classes/labels there are in the dataset.\n",
    "n_classes = len(np.unique(y_train))\n",
    "\n",
    "print(\"Number of training examples =\", n_train)\n",
    "print(\"Number of validation examples =\", n_validation)\n",
    "print(\"Number of testing examples =\", n_test)\n",
    "print(\"Image data shape =\", image_shape)\n",
    "print(\"Number of classes =\", n_classes)"
   ]
  },
  {
   "cell_type": "markdown",
   "metadata": {},
   "source": [
    "### Include an exploratory visualization of the dataset"
   ]
  },
  {
   "cell_type": "markdown",
   "metadata": {},
   "source": [
    "Visualize the German Traffic Signs Dataset using the pickled file(s). This is open ended, suggestions include: plotting traffic sign images, plotting the count of each sign, etc.\n",
    "\n",
    "The [Matplotlib](http://matplotlib.org/) [examples](http://matplotlib.org/examples/index.html) and [gallery](http://matplotlib.org/gallery.html) pages are a great resource for doing visualizations in Python.\n",
    "\n",
    "**NOTE:** It's recommended you start with something simple first. If you wish to do more, come back to it after you've completed the rest of the sections."
   ]
  },
  {
   "cell_type": "code",
   "execution_count": 79,
   "metadata": {
    "collapsed": false
   },
   "outputs": [
    {
     "data": {
      "image/png": "[encoded data removed]",
      "text/plain": [
       "<matplotlib.figure.Figure at 0x7f0534c6cda0>"
      ]
     },
     "metadata": {},
     "output_type": "display_data"
    },
    {
     "name": "stdout",
     "output_type": "stream",
     "text": [
      "7\n"
     ]
    }
   ],
   "source": [
    "### Data exploration visualization code goes here.\n",
    "### Feel free to use as many code cells as needed.\n",
    "import matplotlib.pyplot as plt\n",
    "import random\n",
    "# Visualizations will be shown in the notebook.\n",
    "index = random.randint(0, len(X_train))\n",
    "image = X_train[index].squeeze()\n",
    "plt.figure(figsize=(1,1))\n",
    "plt.imshow(image)\n",
    "plt.show()\n",
    "print(y_train[index])\n",
    "%matplotlib inline"
   ]
  },
  {
   "cell_type": "markdown",
   "metadata": {},
   "source": [
    "----\n",
    "\n",
    "## Step 2: Design and Test a Model Architecture\n",
    "\n",
    "Design and implement a deep learning model that learns to recognize traffic signs. Train and test your model on the [German Traffic Sign Dataset](http://benchmark.ini.rub.de/?section=gtsrb&subsection=dataset).\n",
    "\n",
    "There are various aspects to consider when thinking about this problem:\n",
    "\n",
    "- Neural network architecture\n",
    "- Play around preprocessing techniques (normalization, rgb to grayscale, etc)\n",
    "- Number of examples per label (some have more than others).\n",
    "- Generate fake data.\n",
    "\n",
    "Here is an example of a [published baseline model on this problem](http://yann.lecun.com/exdb/publis/pdf/sermanet-ijcnn-11.pdf). It's not required to be familiar with the approach used in the paper but, it's good practice to try to read papers like these.\n",
    "\n",
    "**NOTE:** The LeNet-5 implementation shown in the [classroom](https://classroom.udacity.com/nanodegrees/nd013/parts/fbf77062-5703-404e-b60c-95b78b2f3f9e/modules/6df7ae49-c61c-4bb2-a23e-6527e69209ec/lessons/601ae704-1035-4287-8b11-e2c2716217ad/concepts/d4aca031-508f-4e0b-b493-e7b706120f81) at the end of the CNN lesson is a solid starting point. You'll have to change the number of classes and possibly the preprocessing, but aside from that it's plug and play!"
   ]
  },
  {
   "cell_type": "markdown",
   "metadata": {},
   "source": [
    "### Pre-process the Data Set (normalization, grayscale, etc.)"
   ]
  },
  {
   "cell_type": "markdown",
   "metadata": {},
   "source": [
    "Use the code cell (or multiple code cells, if necessary) to implement the first step of your project."
   ]
  },
  {
   "cell_type": "code",
   "execution_count": 80,
   "metadata": {
    "collapsed": true
   },
   "outputs": [],
   "source": [
    "### Preprocess the data here. Preprocessing steps could include normalization, converting to grayscale, etc.\n",
    "### Feel free to use as many code cells as needed."
   ]
  },
  {
   "cell_type": "code",
   "execution_count": 81,
   "metadata": {
    "collapsed": false
   },
   "outputs": [],
   "source": [
    "#Convert uint8 image data to float32\n",
    "X_train = X_train.astype(\"float32\")\n",
    "X_validation = X_validation.astype(\"float32\")\n",
    "X_test = X_test.astype(\"float32\")\n",
    "#print(X_train[0][0][0])"
   ]
  },
  {
   "cell_type": "markdown",
   "metadata": {},
   "source": [
    "### Mean Subtraction"
   ]
  },
  {
   "cell_type": "code",
   "execution_count": 82,
   "metadata": {
    "collapsed": false
   },
   "outputs": [],
   "source": [
    "def mean_subtract(X_train, X_validation, X_test, combined_mean=False):\n",
    "    if(combined_mean):\n",
    "        #1 Calculate mean across all channels(RGB) at once and then subtracting it from every pixel\n",
    "        #1.1 Calculate mean\n",
    "        mean_all_channels = np.mean(X_train, dtype=\"float32\")\n",
    "        #1.2 Subtract mean\n",
    "        X_train -= mean_all_channels\n",
    "        X_validation -= mean_all_channels\n",
    "        X_test -= mean_all_channels\n",
    "        #print(mean_all_channels)\n",
    "    else:\n",
    "        #2 Calculate mean across each channel (R, G and B respectively) and subtract from corresponding channels\n",
    "        #2.1 Split channels\n",
    "        channel_red_train, channel_red_validation, channel_red_test = X_train[:,:,:,0], X_validation[:,:,:,0], X_test[:,:,:,0]\n",
    "        channel_green_train, channel_green_validation, channel_green_test = X_train[:,:,:,1], X_validation[:,:,:,1], X_test[:,:,:,1]\n",
    "        channel_blue_train, channel_blue_validation, channel_blue_test = X_train[:,:,:,2], X_validation[:,:,:,2], X_test[:,:,:,2]\n",
    "\n",
    "        #2.2 Calculate mean only on training data\n",
    "        mean_red = np.mean(channel_red_train)\n",
    "        mean_green = np.mean(channel_green_train)\n",
    "        mean_blue = np.mean(channel_blue_train)\n",
    "        #2.2 Subtract mean\n",
    "        #Training\n",
    "        channel_red_train -= mean_red\n",
    "        channel_green_train -= mean_green\n",
    "        channel_blue_train -= mean_blue\n",
    "        #Validation\n",
    "        channel_red_validation -= mean_red\n",
    "        channel_green_validation -= mean_green\n",
    "        channel_blue_validation -= mean_blue\n",
    "        #Test\n",
    "        channel_red_test -= mean_red\n",
    "        channel_green_test -= mean_green\n",
    "        channel_blue_test -= mean_blue\n",
    "\n",
    "        #2.3 Concatenate all the channels\n",
    "        X_train = np.concatenate((channel_red_train[:,:,:,None], channel_green_train[:,:,:,None], channel_blue_train[:,:,:,None]), axis=3)\n",
    "        X_validation = np.concatenate((channel_red_validation[:,:,:,None], channel_green_validation[:,:,:,None], channel_blue_validation[:,:,:,None]), axis=3)\n",
    "        X_test = np.concatenate((channel_red_test[:,:,:,None], channel_green_test[:,:,:,None], channel_blue_test[:,:,:,None]), axis=3)\n",
    "    \n",
    "    return X_train, X_validation, X_test\n",
    "#image = X_train[100].squeeze()\n",
    "#plt.figure(figsize=(1,1))\n",
    "#plt.imshow(image)\n",
    "#plt.show()\n",
    "#print(mean_red, mean_green, mean_blue)\n",
    "#print(channel_red, mean_red)\n",
    "#plt.figure(figsize=(1,1))\n",
    "#plt.imshow(test.squeeze())\n",
    "#plt.show()\n",
    "#print(X_train[100])\n",
    "#print(\"================================\")\n",
    "#print(test)\n",
    "X_train, X_validation, X_test = mean_subtract(X_train, X_validation, X_test, True)\n"
   ]
  },
  {
   "cell_type": "markdown",
   "metadata": {},
   "source": [
    "### Normalization"
   ]
  },
  {
   "cell_type": "code",
   "execution_count": 83,
   "metadata": {
    "collapsed": false
   },
   "outputs": [],
   "source": [
    "#Calculate standard deviation of all channels in training data set\n",
    "stddev_training = np.std(X_train)\n",
    "X_train /= stddev_training\n",
    "X_validation /= stddev_training\n",
    "X_test /= stddev_training\n",
    "#print(stddev_training)"
   ]
  },
  {
   "cell_type": "markdown",
   "metadata": {},
   "source": [
    "### Model Architecture"
   ]
  },
  {
   "cell_type": "code",
   "execution_count": 84,
   "metadata": {
    "collapsed": true
   },
   "outputs": [],
   "source": [
    "### Define your architecture here.\n",
    "### Feel free to use as many code cells as needed."
   ]
  },
  {
   "cell_type": "markdown",
   "metadata": {},
   "source": [
    "### Define and declare hyper parameters for architecture here"
   ]
  },
  {
   "cell_type": "code",
   "execution_count": 85,
   "metadata": {
    "collapsed": false
   },
   "outputs": [],
   "source": [
    "import tensorflow as tf\n",
    "mu = 0\n",
    "sigma = 0.1\n",
    "dropout_keep_prob = 0.5"
   ]
  },
  {
   "cell_type": "markdown",
   "metadata": {},
   "source": [
    "### Network architecture. Starting with LeNet"
   ]
  },
  {
   "cell_type": "code",
   "execution_count": 86,
   "metadata": {
    "collapsed": false
   },
   "outputs": [],
   "source": [
    "from tensorflow.contrib.layers import flatten\n",
    "def run_network_arch (x, weights, biases):\n",
    "\n",
    "    #Convolutional layer - I. Input is 32x32x3. Output is 28x28x6\n",
    "    conv1 = tf.nn.conv2d(x, weights[\"wconv1\"], strides=[1, 1, 1, 1], padding=\"VALID\") #+ biases[\"bconv1\"]\n",
    "    conv1 = tf.nn.bias_add(conv1, biases[\"bconv1\"])\n",
    "    \n",
    "    # ReLU Activation - I\n",
    "    conv1 = tf.nn.relu(conv1)\n",
    "\n",
    "    # Pooling. Input is 28x28x6. Output is 14x14x6.\n",
    "    pool1 = tf.nn.max_pool(conv1, ksize=[1, 2, 2, 1], strides=[1, 2, 2, 1], padding='VALID')\n",
    "    \n",
    "    # Convolutional Layer II. Input is 14x14x6. Output is 10x10x16.\n",
    "    conv2 = tf.nn.conv2d(pool1, weights[\"wconv2\"], strides=[1, 1, 1, 1], padding='VALID') #+ biases[\"bconv2\"]\n",
    "    conv2 = tf.nn.bias_add(conv2, biases[\"bconv2\"])\n",
    "    \n",
    "    # ReLU Activation - II\n",
    "    conv2 = tf.nn.relu(conv2)\n",
    "\n",
    "    # Pooling. Input = 10x10x16. Output = 5x5x16.\n",
    "    pool2 = tf.nn.max_pool(conv2, ksize=[1, 2, 2, 1], strides=[1, 2, 2, 1], padding='VALID')\n",
    "\n",
    "    # Flatten. Input = 5x5x16. Output = 400.\n",
    "    flat = flatten(pool2)\n",
    "    \n",
    "    # Fully Connected Layer - I. Input = 400. Output = 120.\n",
    "    fc1 = tf.add(tf.matmul(flat, weights[\"wfull1\"]), biases[\"bfull1\"])\n",
    "    #fc1 = tf.matmul(flat, weights[\"wfull1\"]) + biases[\"bfull1\"]\n",
    "    \n",
    "    # ReLU Activation - III\n",
    "    fc1 = tf.nn.relu(fc1)\n",
    "    \n",
    "    #Dropout-I\n",
    "    fc1 = tf.nn.dropout(fc1, keep_prob=dropout_keep_prob)\n",
    "\n",
    "    # Fully Connected Layer - II. Input = 120. Output = 84.\n",
    "    fc2 = tf.add(tf.matmul(fc1, weights[\"wfull2\"]), biases[\"bfull2\"])\n",
    "    #fc2 = tf.matmul(fc1, weights[\"wfull2\"]) + biases[\"bfull2\"]\n",
    "    \n",
    "    # ReLU Activation - IV\n",
    "    fc2 = tf.nn.relu(fc2)\n",
    "    \n",
    "    #Dropout-II\n",
    "    fc2 = tf.nn.dropout(fc2, keep_prob=dropout_keep_prob)\n",
    "\n",
    "    # Fully Connected Layer - III. Input = 84. Output = 43.\n",
    "    logits = tf.add(tf.matmul(fc2, weights[\"wfull3\"]), biases[\"bfull3\"])\n",
    "    #logits = tf.matmul(fc2, weights[\"wfull3\"]) + biases[\"bfull3\"]\n",
    "    \n",
    "    return logits"
   ]
  },
  {
   "cell_type": "markdown",
   "metadata": {},
   "source": [
    "### Train, Validate and Test the Model"
   ]
  },
  {
   "cell_type": "markdown",
   "metadata": {},
   "source": [
    "A validation set can be used to assess how well the model is performing. A low accuracy on the training and validation\n",
    "sets imply underfitting. A high accuracy on the training set but low accuracy on the validation set implies overfitting."
   ]
  },
  {
   "cell_type": "code",
   "execution_count": 87,
   "metadata": {
    "collapsed": true
   },
   "outputs": [],
   "source": [
    "### Train your model here.\n",
    "### Calculate and report the accuracy on the training and validation set.\n",
    "### Once a final model architecture is selected, \n",
    "### the accuracy on the test set should be calculated and reported as well.\n",
    "### Feel free to use as many code cells as needed."
   ]
  },
  {
   "cell_type": "markdown",
   "metadata": {},
   "source": [
    "### Define and declare hyper parameters for training here"
   ]
  },
  {
   "cell_type": "code",
   "execution_count": 88,
   "metadata": {
    "collapsed": true
   },
   "outputs": [],
   "source": [
    "learning_rate = 0.001\n",
    "batch_size = 128\n",
    "num_of_epochs = 15\n",
    "l2_regularize_penalty = 0.001"
   ]
  },
  {
   "cell_type": "markdown",
   "metadata": {},
   "source": [
    "### Declare TensorFlow model"
   ]
  },
  {
   "cell_type": "code",
   "execution_count": 89,
   "metadata": {
    "collapsed": false
   },
   "outputs": [],
   "source": [
    "tf.reset_default_graph()\n",
    "x = tf.placeholder(tf.float32, (None, 32, 32, 3))\n",
    "y = tf.placeholder(tf.int32, (None))\n",
    "one_hot_labels = tf.one_hot(y, n_classes)\n",
    "#Declare weights here\n",
    "weights = {\n",
    "    \"wconv1\": tf.Variable(tf.truncated_normal(shape=(5, 5, 3, 6), mean=mu, stddev=sigma), name=\"wconv1\"),\n",
    "    \"wconv2\": tf.Variable(tf.truncated_normal(shape=(5, 5, 6, 16), mean=mu, stddev=sigma), name=\"wconv2\"),\n",
    "    \"wfull1\": tf.Variable(tf.truncated_normal(shape=(400, 120), mean=mu, stddev=sigma), name=\"wfull1\"),\n",
    "    \"wfull2\": tf.Variable(tf.truncated_normal(shape=(120, 84), mean=mu, stddev=sigma), name=\"wfull2\"),\n",
    "    \"wfull3\": tf.Variable(tf.truncated_normal(shape=(84, n_classes), mean=mu, stddev=sigma), name=\"wfull3\")\n",
    "    #\"wconv1\": tf.Variable(tf.truncated_normal(shape=(5, 5, 3, 6))),\n",
    "    #\"wconv2\": tf.Variable(tf.truncated_normal(shape=(5, 5, 6, 16))),\n",
    "    #\"wfull1\": tf.Variable(tf.truncated_normal(shape=(400, 120))),\n",
    "    #\"wfull2\": tf.Variable(tf.truncated_normal(shape=(120, 84))),\n",
    "    #\"wfull3\": tf.Variable(tf.truncated_normal(shape=(84, n_classes)))\n",
    "}\n",
    "#Declare biases here\n",
    "biases = {\n",
    "    \"bconv1\": tf.Variable(tf.zeros(6)),\n",
    "    \"bconv2\": tf.Variable(tf.zeros(16)),\n",
    "    \"bfull1\": tf.Variable(tf.zeros(120)),\n",
    "    \"bfull2\": tf.Variable(tf.zeros(84)),\n",
    "    \"bfull3\": tf.Variable(tf.zeros(n_classes))\n",
    "}\n",
    "#print(n_classes)\n",
    "#print(one_hot_labels)"
   ]
  },
  {
   "cell_type": "markdown",
   "metadata": {},
   "source": [
    "### Training Pipeline"
   ]
  },
  {
   "cell_type": "code",
   "execution_count": 90,
   "metadata": {
    "collapsed": false
   },
   "outputs": [],
   "source": [
    "logits = run_network_arch(x, weights, biases)\n",
    "cross_entropy = tf.nn.softmax_cross_entropy_with_logits(logits, one_hot_labels)\n",
    "l2_regularizer = tf.Variable(0.0)\n",
    "#Apply L2 regularization\n",
    "for layer in weights:\n",
    "    l2_regularizer += tf.nn.l2_loss(weights[layer])\n",
    "loss_operation = tf.reduce_mean(cross_entropy + l2_regularize_penalty*l2_regularizer)\n",
    "#loss_operation = tf.reduce_mean(cross_entropy)\n",
    "optimizer = tf.train.AdamOptimizer(learning_rate = learning_rate)\n",
    "#optimizer = tf.train.AdagradOptimizer(learning_rate = learning_rate)\n",
    "training_operation = optimizer.minimize(loss_operation)"
   ]
  },
  {
   "cell_type": "markdown",
   "metadata": {},
   "source": [
    "### Evalute performance"
   ]
  },
  {
   "cell_type": "code",
   "execution_count": 91,
   "metadata": {
    "collapsed": false
   },
   "outputs": [],
   "source": [
    "correct_prediction = tf.equal(tf.argmax(logits, 1), tf.argmax(one_hot_labels, 1))\n",
    "accuracy_operation = tf.reduce_mean(tf.cast(correct_prediction, tf.float32))\n",
    "\n",
    "def evaluate(X_data, y_data):\n",
    "    num_examples = len(X_data)\n",
    "    total_accuracy = 0\n",
    "    for offset in range(0, num_examples, batch_size):\n",
    "        batch_x, batch_y = X_data[offset:offset + batch_size], y_data[offset:offset + batch_size]\n",
    "        accuracy = sess.run(accuracy_operation, feed_dict={x: batch_x, y: batch_y})\n",
    "        total_accuracy += (accuracy * len(batch_x))\n",
    "    return total_accuracy / num_examples"
   ]
  },
  {
   "cell_type": "markdown",
   "metadata": {},
   "source": [
    "### Train in TensorFlow session"
   ]
  },
  {
   "cell_type": "code",
   "execution_count": 95,
   "metadata": {
    "collapsed": false
   },
   "outputs": [
    {
     "name": "stdout",
     "output_type": "stream",
     "text": [
      "Training...\n",
      "Training accuracy for Epoch is:\n",
      "0.548780137439\n",
      "Validation accuracy for Epoch is:\n",
      "0.499773242549\n",
      "===============================\n",
      "Training accuracy for Epoch is:\n",
      "0.733814190162\n",
      "Validation accuracy for Epoch is:\n",
      "0.692290249514\n",
      "===============================\n",
      "Training accuracy for Epoch is:\n",
      "0.812580821579\n",
      "Validation accuracy for Epoch is:\n",
      "0.753061223787\n",
      "===============================\n",
      "Training accuracy for Epoch is:\n",
      "0.852380815556\n",
      "Validation accuracy for Epoch is:\n",
      "0.797732425817\n",
      "===============================\n",
      "Training accuracy for Epoch is:\n",
      "0.869766372837\n",
      "Validation accuracy for Epoch is:\n",
      "0.816553287793\n",
      "===============================\n",
      "Training accuracy for Epoch is:\n",
      "0.888473806768\n",
      "Validation accuracy for Epoch is:\n",
      "0.83174603207\n",
      "===============================\n",
      "Training accuracy for Epoch is:\n",
      "0.90327308261\n",
      "Validation accuracy for Epoch is:\n",
      "0.844897959508\n",
      "===============================\n",
      "Training accuracy for Epoch is:\n",
      "0.916060806446\n",
      "Validation accuracy for Epoch is:\n",
      "0.84920634899\n",
      "===============================\n",
      "Training accuracy for Epoch is:\n",
      "0.921721888646\n",
      "Validation accuracy for Epoch is:\n",
      "0.865759636729\n",
      "===============================\n",
      "Training accuracy for Epoch is:\n",
      "0.931118710359\n",
      "Validation accuracy for Epoch is:\n",
      "0.876643990173\n",
      "===============================\n",
      "Training accuracy for Epoch is:\n",
      "0.936636110387\n",
      "Validation accuracy for Epoch is:\n",
      "0.872335600961\n",
      "===============================\n",
      "Training accuracy for Epoch is:\n",
      "0.945055892599\n",
      "Validation accuracy for Epoch is:\n",
      "0.886848072049\n",
      "===============================\n",
      "Training accuracy for Epoch is:\n",
      "0.940946579045\n",
      "Validation accuracy for Epoch is:\n",
      "0.876417233614\n",
      "===============================\n",
      "Training accuracy for Epoch is:\n",
      "0.945515675841\n",
      "Validation accuracy for Epoch is:\n",
      "0.882086167882\n",
      "===============================\n",
      "Training accuracy for Epoch is:\n",
      "0.94902152371\n",
      "Validation accuracy for Epoch is:\n",
      "0.887981858924\n",
      "===============================\n"
     ]
    }
   ],
   "source": [
    "from sklearn.utils import shuffle\n",
    "saver = tf.train.Saver()\n",
    "with tf.Session() as sess:\n",
    "    print(\"Training...\")\n",
    "    sess.run(tf.global_variables_initializer())\n",
    "    for i in range(num_of_epochs):\n",
    "        X_train, y_train = shuffle(X_train, y_train)\n",
    "        for offset in range(0, len(X_train), batch_size):\n",
    "            current_input_batch = X_train[offset: offset + batch_size]\n",
    "            current_labels_batch = y_train[offset: offset + batch_size]\n",
    "            #print(current_input_batch, current_labels_batch)\n",
    "            sess.run(training_operation, feed_dict={x: current_input_batch, y: current_labels_batch})\n",
    "            #print(\"Batch ---- \" + str(offset))\n",
    "\n",
    "        training_accuracy = evaluate(X_train, y_train)\n",
    "        print(\"Training accuracy for Epoch is:\")\n",
    "        print(training_accuracy)\n",
    "        validation_accuracy = evaluate(X_validation, y_validation)\n",
    "        print(\"Validation accuracy for Epoch is:\")\n",
    "        print(validation_accuracy)\n",
    "        print(\"===============================\")\n",
    "    saver.save(sess, './model.ckpt')\n",
    "    "
   ]
  },
  {
   "cell_type": "code",
   "execution_count": 98,
   "metadata": {
    "collapsed": false
   },
   "outputs": [
    {
     "name": "stdout",
     "output_type": "stream",
     "text": [
      "{'wfull1': array([[ 0.03703266,  0.06948753,  0.05263165, ..., -0.02436461,\n",
      "         0.01408547, -0.05284747],\n",
      "       [ 0.03656853, -0.05933497,  0.00301337, ...,  0.01914116,\n",
      "         0.04321537, -0.03147877],\n",
      "       [-0.09441962, -0.02170298, -0.05651925, ...,  0.03291862,\n",
      "         0.02861556, -0.00946373],\n",
      "       ..., \n",
      "       [ 0.01493142,  0.01871008,  0.00176945, ...,  0.07002006,\n",
      "         0.05072719,  0.04445548],\n",
      "       [ 0.01406289,  0.01592145,  0.06355029, ...,  0.01373189,\n",
      "         0.06893893, -0.00901618],\n",
      "       [ 0.05162824,  0.02374706,  0.0843314 , ..., -0.09547871,\n",
      "         0.02158819, -0.02647063]], dtype=float32), 'wfull3': array([[-0.01444073, -0.08429475, -0.14662127, ...,  0.04734348,\n",
      "         0.12511739,  0.12102333],\n",
      "       [-0.11275247, -0.25326568,  0.06844023, ..., -0.14552642,\n",
      "         0.07582544, -0.16098605],\n",
      "       [-0.07967307, -0.15872675,  0.09326418, ..., -0.18527283,\n",
      "        -0.06308346,  0.1085594 ],\n",
      "       ..., \n",
      "       [-0.17211671, -0.09666794,  0.04009373, ..., -0.20246224,\n",
      "        -0.12047244, -0.12905823],\n",
      "       [-0.11787464, -0.02988433, -0.11234334, ...,  0.11940851,\n",
      "         0.17546116,  0.16922389],\n",
      "       [ 0.09567978, -0.18532212, -0.22342589, ...,  0.0989577 ,\n",
      "         0.06688311, -0.1993306 ]], dtype=float32), 'wconv1': array([[[[  1.94842853e-02,   3.34298015e-01,   1.17786691e-01,\n",
      "           -8.46515223e-02,  -1.63589008e-02,  -1.53539062e-01],\n",
      "         [  8.14604908e-02,   1.56356424e-01,   1.76248774e-01,\n",
      "           -3.38780060e-02,   1.54979050e-01,  -2.81604946e-01],\n",
      "         [  4.98981066e-02,   1.15009852e-01,   1.88879058e-01,\n",
      "           -9.98571962e-02,   1.62608296e-01,  -2.16162220e-01]],\n",
      "\n",
      "        [[ -1.66614819e-02,   2.03254238e-01,   2.35086307e-01,\n",
      "           -1.68092862e-01,  -1.19804136e-01,  -2.79628903e-01],\n",
      "         [ -1.94058105e-01,   1.94959715e-01,   2.74064153e-01,\n",
      "           -1.89913169e-01,  -5.27202450e-02,  -1.84164360e-01],\n",
      "         [ -1.70757234e-01,   2.42538899e-01,   8.39614421e-02,\n",
      "           -6.33760989e-02,   1.99227646e-01,  -1.60439566e-01]],\n",
      "\n",
      "        [[ -1.31387323e-01,   2.72333592e-01,   1.79663286e-01,\n",
      "            1.07565485e-01,  -7.50530437e-02,  -2.99299866e-01],\n",
      "         [ -3.15693110e-01,  -1.09157465e-01,   2.97130704e-01,\n",
      "           -8.42068791e-02,   5.18072955e-02,  -4.25439060e-01],\n",
      "         [ -1.87269077e-01,   1.17689900e-01,   3.49580884e-01,\n",
      "            1.41418099e-01,   9.33300555e-02,  -3.27048868e-01]],\n",
      "\n",
      "        [[ -2.09913343e-01,   1.32889617e-02,   1.90242872e-01,\n",
      "            1.10486643e-02,  -2.58934557e-01,  -3.70522290e-01],\n",
      "         [ -2.23108172e-01,  -8.68775174e-02,   2.27469280e-01,\n",
      "           -4.69054878e-02,  -9.44143906e-02,  -4.36253905e-01],\n",
      "         [ -2.57067591e-01,   4.66263108e-02,   1.10676154e-01,\n",
      "            2.40957402e-02,   2.04520196e-01,  -3.10319394e-01]],\n",
      "\n",
      "        [[ -3.90407145e-01,  -1.35723120e-02,   3.69709879e-02,\n",
      "            1.23807892e-01,   7.69269541e-02,  -7.75279701e-02],\n",
      "         [ -9.26422775e-02,   1.89068645e-01,  -1.02880411e-01,\n",
      "            3.04218885e-02,  -3.28281261e-02,  -3.90141085e-02],\n",
      "         [ -6.73549920e-02,   3.16219963e-02,  -1.70154441e-02,\n",
      "            1.22117229e-01,   1.18404910e-01,  -6.95197508e-02]]],\n",
      "\n",
      "\n",
      "       [[[  1.12376235e-01,   2.91756928e-01,  -7.04654399e-03,\n",
      "            9.40169469e-02,   1.25994921e-01,  -1.39944062e-01],\n",
      "         [  8.60380903e-02,  -9.38574821e-02,   1.23635828e-02,\n",
      "           -3.56483907e-02,   9.99126205e-05,   5.31877205e-02],\n",
      "         [  2.09954768e-01,   3.29145719e-03,   1.38522521e-01,\n",
      "            1.29870102e-02,   1.66448414e-01,  -8.10639188e-02]],\n",
      "\n",
      "        [[  1.62131086e-01,   2.10497022e-01,   5.54561466e-02,\n",
      "           -5.59877837e-03,  -2.78959088e-02,  -1.32106975e-01],\n",
      "         [  1.57005623e-01,  -1.38427809e-01,   2.73494393e-01,\n",
      "           -4.86720502e-02,   1.49033247e-02,   3.00010759e-02],\n",
      "         [  1.97851151e-01,  -9.00390819e-02,   1.88726917e-01,\n",
      "           -1.44664079e-01,   2.25176029e-02,  -1.35095224e-01]],\n",
      "\n",
      "        [[  2.05373969e-02,   2.60395911e-02,   2.35364318e-01,\n",
      "            1.38099030e-01,  -2.32283637e-01,  -1.32164165e-01],\n",
      "         [  3.17720994e-02,  -2.43065692e-02,   2.69578218e-01,\n",
      "            4.14402708e-02,  -1.32921606e-01,  -1.28546238e-01],\n",
      "         [  1.05380997e-01,  -1.49143800e-01,   3.61965328e-01,\n",
      "            3.05402260e-02,   4.59765233e-02,  -1.59000829e-01]],\n",
      "\n",
      "        [[ -3.07138562e-01,  -1.23740966e-02,   1.68017261e-02,\n",
      "            6.79277442e-03,  -1.77010760e-01,  -4.07875866e-01],\n",
      "         [ -1.94562554e-01,  -5.96660227e-02,   2.76580732e-02,\n",
      "           -8.68215635e-02,  -2.06255745e-02,  -1.80709362e-01],\n",
      "         [  5.13244420e-02,  -6.42882958e-02,   1.86924897e-02,\n",
      "            8.97784606e-02,  -6.42128512e-02,  -2.03853324e-01]],\n",
      "\n",
      "        [[ -3.19634765e-01,  -1.11116707e-01,  -1.99874461e-01,\n",
      "           -1.27079412e-01,  -2.09366769e-01,  -3.15398127e-01],\n",
      "         [ -3.94135833e-01,  -9.78559256e-02,  -1.90989316e-01,\n",
      "           -1.46872073e-01,   1.37923241e-01,  -2.91897535e-01],\n",
      "         [ -1.49894118e-01,  -5.59699051e-02,  -8.35503414e-02,\n",
      "           -1.59099977e-02,   6.04598299e-02,  -2.76748121e-01]]],\n",
      "\n",
      "\n",
      "       [[[ -7.84859899e-03,   1.38978958e-01,   5.21410722e-04,\n",
      "            2.40697861e-01,  -1.92314789e-01,  -1.52654201e-01],\n",
      "         [  6.11899868e-02,  -3.00664723e-01,  -1.69836711e-02,\n",
      "            1.48936324e-02,   3.78381386e-02,   2.35446364e-01],\n",
      "         [ -4.77124453e-02,  -3.55672985e-01,   5.17790671e-03,\n",
      "            4.50562648e-02,   7.67651654e-04,   1.97220087e-01]],\n",
      "\n",
      "        [[  2.73517430e-01,   5.05164526e-02,   1.06496990e-01,\n",
      "           -5.50376065e-03,  -2.94915259e-01,   2.23709807e-01],\n",
      "         [  1.55491874e-01,  -4.08849895e-01,   1.78794023e-02,\n",
      "           -6.90522268e-02,  -5.52598089e-02,   2.12652415e-01],\n",
      "         [  1.50146723e-01,  -4.29825783e-01,   1.17123023e-01,\n",
      "           -1.65315196e-01,  -4.42572869e-02,   3.18049490e-01]],\n",
      "\n",
      "        [[  2.96175897e-01,   1.27911627e-01,  -6.03497252e-02,\n",
      "           -7.53153116e-03,  -2.86599338e-01,   1.97566703e-01],\n",
      "         [  2.09761083e-01,  -2.01574832e-01,   1.06986851e-01,\n",
      "           -1.68524206e-01,   3.17677967e-02,   3.25979412e-01],\n",
      "         [  1.51352748e-01,  -1.82647333e-01,  -1.11975208e-01,\n",
      "           -2.20378339e-02,   2.16123149e-01,   3.66257876e-01]],\n",
      "\n",
      "        [[  2.17025261e-02,  -2.48984247e-02,  -3.14049363e-01,\n",
      "           -1.71101451e-01,  -1.78256974e-01,  -1.95012558e-02],\n",
      "         [  7.72952363e-02,  -8.69065151e-02,  -3.70069921e-01,\n",
      "           -3.19940269e-01,  -1.91925704e-01,   4.43222970e-02],\n",
      "         [  1.29622027e-01,  -5.06677441e-02,  -4.67689633e-02,\n",
      "           -1.44958764e-01,   2.72429794e-01,   7.51378685e-02]],\n",
      "\n",
      "        [[ -1.80898637e-01,   2.31748313e-01,  -4.99377042e-01,\n",
      "           -1.09164044e-01,  -2.73735911e-01,  -1.41741872e-01],\n",
      "         [ -2.34627584e-03,  -1.14359662e-01,  -3.67816448e-01,\n",
      "           -2.46717185e-01,  -2.08338588e-01,  -2.42483824e-01],\n",
      "         [  1.80292558e-02,  -5.15192524e-02,  -1.71158746e-01,\n",
      "           -7.62928054e-02,  -1.98166296e-02,  -1.19104221e-01]]],\n",
      "\n",
      "\n",
      "       [[[ -2.73522809e-02,   9.02175084e-02,   4.00569327e-02,\n",
      "            1.78095579e-01,  -6.57769218e-02,   1.74762607e-02],\n",
      "         [ -1.15732685e-01,  -3.53890806e-01,   1.20099463e-01,\n",
      "           -3.83656025e-02,   3.98351774e-02,   2.75642157e-01],\n",
      "         [ -8.95322189e-02,  -4.76745486e-01,   8.88248999e-03,\n",
      "           -1.51581123e-01,  -7.97148794e-03,   2.96332508e-01]],\n",
      "\n",
      "        [[  9.60609093e-02,   6.29178761e-03,  -1.84762422e-02,\n",
      "            4.05917019e-02,  -6.73580021e-02,   1.12286799e-01],\n",
      "         [  9.67949256e-03,  -1.96152493e-01,  -1.96490481e-01,\n",
      "           -6.23284876e-02,   1.03170149e-01,   4.57966924e-01],\n",
      "         [  1.45484105e-01,  -5.31632066e-01,   1.28329620e-01,\n",
      "           -9.83951539e-02,   6.28794879e-02,   3.90199363e-01]],\n",
      "\n",
      "        [[  2.91552037e-01,   1.47787347e-01,  -3.03357184e-01,\n",
      "            2.93041561e-02,  -3.11643958e-01,   2.59337574e-01],\n",
      "         [  9.84138772e-02,   1.04886666e-01,  -3.45997334e-01,\n",
      "           -7.64924288e-02,  -7.80545175e-02,   4.34550017e-01],\n",
      "         [  1.85917005e-01,  -5.69644384e-02,  -1.72061235e-01,\n",
      "           -1.29693255e-01,   2.13923585e-02,   3.13253999e-01]],\n",
      "\n",
      "        [[  1.80114314e-01,   1.81538701e-01,  -3.51750106e-01,\n",
      "           -1.11442894e-01,  -2.24600151e-01,   1.43660128e-01],\n",
      "         [  1.96510449e-01,  -1.03590757e-01,  -4.03197914e-01,\n",
      "           -2.50624239e-01,  -1.07559502e-01,   8.07044357e-02],\n",
      "         [ -6.80071302e-04,  -9.14976224e-02,  -2.25919366e-01,\n",
      "           -8.87562484e-02,   9.40241292e-02,   3.51298898e-01]],\n",
      "\n",
      "        [[ -1.56208081e-02,   3.26967001e-01,  -3.17476720e-01,\n",
      "            1.89891443e-01,  -2.23513424e-01,  -1.03652008e-01],\n",
      "         [  6.58527315e-02,   1.93749651e-01,  -2.83486933e-01,\n",
      "           -5.35082594e-02,  -2.34646216e-01,   4.38820198e-02],\n",
      "         [  1.08258866e-01,   7.25816488e-02,  -2.02784821e-01,\n",
      "           -1.15574725e-01,   1.82425141e-01,  -1.12930283e-01]]],\n",
      "\n",
      "\n",
      "       [[[ -9.93577614e-02,   1.41170129e-01,   1.04360968e-01,\n",
      "           -2.21147593e-02,   5.97090321e-03,   1.10018879e-01],\n",
      "         [ -3.19805712e-01,  -3.04617792e-01,  -3.42477858e-03,\n",
      "           -1.66623473e-01,   2.45870844e-01,   2.09929705e-01],\n",
      "         [ -6.87271133e-02,  -3.10092002e-01,   1.23154685e-01,\n",
      "           -1.18038747e-02,   1.84674293e-01,   1.81700781e-01]],\n",
      "\n",
      "        [[ -1.69939876e-01,   1.41112536e-01,  -3.14861126e-02,\n",
      "            3.80456261e-02,   1.26971498e-01,   2.19460472e-01],\n",
      "         [ -1.70027658e-01,  -1.41734973e-01,  -3.32079902e-02,\n",
      "           -1.35066226e-01,   1.93392605e-01,   2.90912569e-01],\n",
      "         [ -1.29408613e-01,  -1.52498871e-01,  -8.11345056e-02,\n",
      "            7.95331821e-02,   1.34873107e-01,   2.22181663e-01]],\n",
      "\n",
      "        [[  1.38559580e-01,   2.20054612e-01,  -9.14309695e-02,\n",
      "            2.01457739e-01,  -2.51554400e-01,   1.62140951e-01],\n",
      "         [  1.12481594e-01,   5.92755117e-02,   8.99765361e-03,\n",
      "           -3.81685644e-02,  -4.97549325e-02,   2.13099986e-01],\n",
      "         [ -1.95135288e-02,   3.51699069e-02,   2.26258431e-02,\n",
      "           -3.02521437e-02,   1.95100069e-01,   2.01558158e-01]],\n",
      "\n",
      "        [[  2.82078475e-01,   2.18519866e-01,   4.14762180e-03,\n",
      "            1.59373909e-01,  -2.28234127e-01,   1.40214637e-01],\n",
      "         [  1.17438458e-01,   2.13761732e-01,  -5.54793850e-02,\n",
      "           -1.67710274e-01,  -1.16763458e-01,   1.06184157e-02],\n",
      "         [  6.52861446e-02,   9.98646766e-02,   6.22935779e-02,\n",
      "           -1.14964083e-01,   3.57328478e-04,   4.10348410e-03]],\n",
      "\n",
      "        [[  1.99700445e-02,   1.71894163e-01,   2.20243648e-01,\n",
      "            2.30356693e-01,  -1.60206318e-01,  -5.51325493e-02],\n",
      "         [ -9.17341467e-03,   1.22452825e-02,   1.29807681e-01,\n",
      "            1.52569696e-01,   1.34948805e-01,  -5.03746271e-02],\n",
      "         [ -3.30473855e-02,   1.34383142e-01,   2.86524326e-01,\n",
      "            1.53116897e-01,   1.39736176e-01,  -1.31462574e-01]]]], dtype=float32), 'wfull2': array([[-0.01685317,  0.13308974, -0.08314192, ..., -0.09849879,\n",
      "        -0.00601606, -0.03507209],\n",
      "       [ 0.26733214, -0.10437074, -0.07700505, ..., -0.04369768,\n",
      "        -0.03987902,  0.05476085],\n",
      "       [-0.01502278, -0.08642288,  0.01321648, ...,  0.0547514 ,\n",
      "        -0.17964479, -0.08349279],\n",
      "       ..., \n",
      "       [-0.00258075,  0.00993779,  0.11764424, ..., -0.0839977 ,\n",
      "        -0.02415235, -0.08295358],\n",
      "       [ 0.02270264,  0.01660667,  0.03774578, ...,  0.03223584,\n",
      "        -0.16522196,  0.08478659],\n",
      "       [-0.10259196, -0.02045641,  0.01619558, ..., -0.03820761,\n",
      "        -0.09157077, -0.02450042]], dtype=float32), 'wconv2': array([[[[  1.42921537e-01,  -2.05105403e-03,   3.64202671e-02, ...,\n",
      "           -2.91252770e-02,  -7.38153234e-02,   1.27524331e-01],\n",
      "         [ -9.30352509e-02,   1.56040981e-01,   8.60075429e-02, ...,\n",
      "           -4.44986634e-02,   1.10413410e-01,   1.69461966e-01],\n",
      "         [ -4.63938154e-02,  -2.39016637e-02,   2.49763508e-03, ...,\n",
      "            3.87966707e-02,   6.93641752e-02,   1.44239573e-03],\n",
      "         [  1.99841298e-02,   3.20623480e-02,   2.07246706e-01, ...,\n",
      "           -4.44039982e-03,   1.04754426e-01,  -6.72306269e-02],\n",
      "         [ -6.01303242e-02,   6.26758114e-02,  -9.23199207e-02, ...,\n",
      "           -1.65881738e-01,   1.40234932e-01,   2.30380505e-01],\n",
      "         [  3.48534212e-02,   4.63351272e-02,   4.31014039e-02, ...,\n",
      "           -2.66002752e-02,  -7.09935352e-02,   1.07451558e-01]],\n",
      "\n",
      "        [[  7.69253448e-03,  -2.38233563e-02,   9.84920338e-02, ...,\n",
      "            9.24108177e-02,   6.41065612e-02,  -1.43990681e-01],\n",
      "         [  2.00751230e-01,  -5.22828996e-02,   2.15166360e-01, ...,\n",
      "            2.55047232e-01,  -2.65165847e-02,   1.41991496e-01],\n",
      "         [  1.45153990e-02,  -7.83929005e-02,   5.57332858e-03, ...,\n",
      "           -1.43403947e-01,  -1.96115822e-01,  -9.94545966e-02],\n",
      "         [  9.95361246e-03,  -1.34286568e-01,   2.67949924e-02, ...,\n",
      "           -8.73804931e-03,   2.35062391e-02,   6.02964386e-02],\n",
      "         [  4.96654771e-02,  -1.36238798e-01,  -4.69755679e-02, ...,\n",
      "            8.82592890e-03,   3.99303026e-02,   1.12312093e-01],\n",
      "         [  3.62841785e-02,   4.68923151e-02,   1.21517532e-01, ...,\n",
      "           -5.96747175e-02,   1.38950320e-02,  -2.00444534e-01]],\n",
      "\n",
      "        [[ -1.52017832e-01,  -1.18919276e-01,   2.38093827e-02, ...,\n",
      "            1.73857972e-01,  -7.67239034e-02,  -1.20870229e-02],\n",
      "         [  5.74333966e-02,  -1.21806726e-01,  -2.88198944e-02, ...,\n",
      "            2.40464941e-01,  -7.31776059e-02,   1.45827651e-01],\n",
      "         [ -1.48274183e-01,  -2.45518491e-01,  -2.36833710e-02, ...,\n",
      "           -1.79353476e-01,   5.82473353e-02,   2.33212523e-02],\n",
      "         [ -7.56313503e-02,  -6.08078577e-02,   3.22557054e-02, ...,\n",
      "            8.38481188e-02,   2.04317808e-01,   6.23137690e-02],\n",
      "         [  8.86465907e-02,   4.10135416e-03,   4.18341793e-02, ...,\n",
      "           -8.79869610e-02,   3.72257680e-02,  -7.73312524e-02],\n",
      "         [  7.91674182e-02,   9.58367214e-02,  -3.82309295e-02, ...,\n",
      "            1.89791396e-01,   1.87714361e-02,  -4.16436456e-02]],\n",
      "\n",
      "        [[ -1.77156255e-01,   1.40425652e-01,   6.42401800e-02, ...,\n",
      "            3.95659693e-02,   7.94531498e-03,   1.05492771e-01],\n",
      "         [ -1.82033077e-01,  -3.06274176e-01,   1.18058845e-01, ...,\n",
      "            8.22883025e-02,  -9.98788048e-03,  -5.17787784e-03],\n",
      "         [  8.36761147e-02,  -4.49708030e-02,  -1.54173886e-02, ...,\n",
      "            1.26634806e-01,  -2.13071089e-02,  -3.56978886e-02],\n",
      "         [ -8.35260153e-02,  -1.28479660e-01,   1.71530962e-01, ...,\n",
      "            8.01335424e-02,  -4.34121266e-02,  -8.56680050e-02],\n",
      "         [  7.43579343e-02,  -1.23586155e-01,  -8.86635035e-02, ...,\n",
      "           -3.52054536e-02,   1.91132282e-03,  -7.64778405e-02],\n",
      "         [  2.08813205e-01,   1.02141134e-01,  -3.94665711e-02, ...,\n",
      "           -2.05250587e-02,  -9.22603980e-02,   2.11534128e-01]],\n",
      "\n",
      "        [[  6.40550777e-02,   2.49892045e-02,   7.68019706e-02, ...,\n",
      "            1.02872320e-01,   7.98318088e-02,  -1.89073347e-02],\n",
      "         [ -1.32630363e-01,  -3.76329720e-01,   6.34573027e-02, ...,\n",
      "            7.30497986e-02,   2.90630795e-02,  -9.48629230e-02],\n",
      "         [ -7.76397288e-02,   3.91150564e-02,   2.74200849e-02, ...,\n",
      "            1.72813028e-01,   1.96952149e-02,  -7.72407453e-04],\n",
      "         [ -5.94861805e-02,  -1.14115059e-01,  -5.21158800e-02, ...,\n",
      "            5.19035943e-03,  -6.33318424e-02,   8.87652859e-02],\n",
      "         [  4.90389057e-02,   1.04009874e-01,  -9.43676382e-02, ...,\n",
      "            1.57005757e-01,   8.52129906e-02,  -3.79893705e-02],\n",
      "         [ -2.33346671e-02,  -3.91000323e-02,   2.20801145e-01, ...,\n",
      "            4.69918884e-02,  -4.41788584e-02,   1.92241132e-01]]],\n",
      "\n",
      "\n",
      "       [[[ -6.47167191e-02,  -6.61200508e-02,  -1.19232610e-01, ...,\n",
      "           -6.62179589e-02,  -3.91366184e-02,   1.73715711e-01],\n",
      "         [  7.84246922e-02,   1.41167209e-01,   7.02016149e-03, ...,\n",
      "            2.24973727e-02,  -3.42190340e-02,  -1.60398215e-01],\n",
      "         [  1.46181870e-03,   1.70634896e-01,  -3.82575653e-02, ...,\n",
      "           -5.58314435e-02,   1.29941478e-01,   1.02826044e-01],\n",
      "         [  6.12093285e-02,   4.53881286e-02,   2.00160779e-02, ...,\n",
      "            7.97449425e-02,   9.50105712e-02,   7.33338445e-02],\n",
      "         [ -1.98330715e-01,  -1.03306249e-01,  -7.24795982e-02, ...,\n",
      "           -1.14424348e-01,   1.42966472e-02,  -1.72849000e-02],\n",
      "         [ -1.39072835e-02,  -2.19093174e-01,  -4.96775135e-02, ...,\n",
      "           -1.24314325e-02,  -6.64756298e-02,   2.08581835e-02]],\n",
      "\n",
      "        [[ -1.79544371e-02,  -4.37852293e-02,   1.77203678e-02, ...,\n",
      "           -4.12502252e-02,  -4.76371869e-02,   2.48628035e-02],\n",
      "         [  1.83155701e-01,   1.61400348e-01,   2.18933001e-01, ...,\n",
      "            1.59070224e-01,  -6.12788610e-02,  -3.27931643e-02],\n",
      "         [ -1.81496143e-01,  -2.38609444e-02,  -1.06884487e-01, ...,\n",
      "           -9.07871872e-03,   2.92642936e-02,  -1.76627576e-01],\n",
      "         [ -1.35994658e-01,  -1.42149240e-01,   2.94565316e-02, ...,\n",
      "            3.88039574e-02,   1.79514773e-02,   2.39773281e-02],\n",
      "         [ -4.24650759e-02,  -2.71605514e-02,  -2.00498179e-01, ...,\n",
      "           -1.45999402e-01,   5.13984933e-02,   5.43860011e-02],\n",
      "         [ -1.20576352e-01,   1.02914304e-01,   6.91462383e-02, ...,\n",
      "           -3.18198949e-02,   7.17941001e-02,   6.48496374e-02]],\n",
      "\n",
      "        [[ -7.75320753e-02,   3.87198217e-02,  -4.88564931e-03, ...,\n",
      "            4.11145315e-02,  -7.64622167e-02,  -1.46797299e-03],\n",
      "         [ -1.26626879e-01,  -2.29306713e-01,   5.86894760e-03, ...,\n",
      "            1.93892360e-01,  -1.50747091e-01,  -5.13700284e-02],\n",
      "         [ -3.94391902e-02,   1.15001209e-01,  -1.03022784e-01, ...,\n",
      "            2.71980893e-02,  -4.71084416e-02,  -5.69464229e-02],\n",
      "         [ -3.94176953e-02,  -2.22389325e-01,   4.68340963e-02, ...,\n",
      "            3.00304651e-01,   2.32636444e-02,  -1.76443741e-01],\n",
      "         [ -1.20009609e-01,   1.03535885e-02,  -9.23314244e-02, ...,\n",
      "           -1.65820390e-01,   2.18724683e-01,  -7.25607499e-02],\n",
      "         [ -2.40012705e-02,   1.91189218e-02,  -1.63205191e-02, ...,\n",
      "           -1.15236774e-01,  -3.48696448e-02,  -1.16342694e-01]],\n",
      "\n",
      "        [[ -3.84941027e-02,   8.58981833e-02,  -2.38554493e-01, ...,\n",
      "            5.47878072e-02,  -5.43662580e-03,   1.59623414e-01],\n",
      "         [ -2.26742730e-01,  -1.11561701e-01,   4.54006251e-04, ...,\n",
      "            4.36508693e-02,  -6.92732353e-03,   3.18059279e-03],\n",
      "         [ -6.96673691e-02,  -8.95839557e-02,  -2.01096848e-01, ...,\n",
      "           -2.54476279e-01,   3.10599878e-02,   1.26671001e-01],\n",
      "         [  7.37965282e-04,  -2.06594840e-02,   4.16156128e-02, ...,\n",
      "            1.20167606e-01,   1.34605840e-01,  -1.23418361e-01],\n",
      "         [  8.91034529e-02,  -2.56415345e-02,  -3.84387299e-02, ...,\n",
      "           -5.51192351e-02,   1.76108107e-01,   3.19968387e-02],\n",
      "         [ -7.10673705e-02,  -1.65178329e-01,   8.58792588e-02, ...,\n",
      "           -3.17145050e-01,  -7.66008124e-02,  -2.11030841e-02]],\n",
      "\n",
      "        [[ -7.29036406e-02,   7.37746656e-02,  -1.28293842e-01, ...,\n",
      "           -4.37026620e-02,  -1.53614521e-01,  -2.82182973e-02],\n",
      "         [ -1.52361766e-01,  -1.72923893e-01,  -1.87790602e-01, ...,\n",
      "            1.53699480e-02,   7.10227489e-02,  -1.82713926e-01],\n",
      "         [  5.45657128e-02,   8.41301009e-02,   7.36408830e-02, ...,\n",
      "           -1.84123233e-01,  -2.72332784e-02,   2.27850810e-01],\n",
      "         [ -7.83125497e-03,   2.57219169e-02,  -7.37279430e-02, ...,\n",
      "            8.87783095e-02,  -4.36883233e-02,  -3.85734695e-03],\n",
      "         [ -3.88796404e-02,   7.98774734e-02,  -5.16219512e-02, ...,\n",
      "           -2.58496311e-02,  -9.13881604e-03,   5.98295815e-02],\n",
      "         [ -1.18480749e-01,   1.11346275e-01,   2.23525122e-01, ...,\n",
      "           -2.10153922e-01,  -2.17004403e-01,  -4.59626317e-02]]],\n",
      "\n",
      "\n",
      "       [[[ -2.93134153e-02,   3.08071170e-02,   1.19772725e-01, ...,\n",
      "           -1.22403443e-01,  -1.52517185e-01,   2.59195387e-01],\n",
      "         [  7.64854029e-02,   1.76986665e-01,  -1.64518014e-01, ...,\n",
      "            2.67215092e-02,  -1.19488975e-02,  -1.40095502e-01],\n",
      "         [  1.32774264e-01,  -9.89617482e-02,   7.47707337e-02, ...,\n",
      "            1.47637516e-01,  -1.29012793e-01,  -6.01772964e-02],\n",
      "         [  8.59293528e-03,  -2.62773130e-02,  -2.08028872e-02, ...,\n",
      "            6.19298369e-02,   4.61990992e-03,  -9.44484863e-03],\n",
      "         [ -1.40932649e-01,  -1.10570721e-01,  -7.93017969e-02, ...,\n",
      "            1.51956871e-01,  -6.20809682e-02,  -3.69750783e-02],\n",
      "         [ -2.41932809e-01,   1.23262875e-01,   7.21688122e-02, ...,\n",
      "           -9.90315676e-02,  -8.78914818e-02,  -6.28207102e-02]],\n",
      "\n",
      "        [[ -2.54063398e-01,   4.55783531e-02,  -1.19544119e-01, ...,\n",
      "           -1.84053019e-01,   1.44671842e-01,   1.50777370e-01],\n",
      "         [ -1.55800134e-02,   1.11009590e-01,  -2.93955766e-02, ...,\n",
      "            1.36331111e-01,  -2.02696890e-01,  -1.53377518e-01],\n",
      "         [  3.43258500e-01,   1.08606078e-01,   6.63352534e-02, ...,\n",
      "            1.41013205e-01,  -6.78380206e-02,  -8.58838186e-02],\n",
      "         [  2.49012355e-02,   4.41926159e-02,   5.03874570e-02, ...,\n",
      "            1.75389558e-01,  -1.47459656e-01,  -1.73434317e-01],\n",
      "         [  8.36839899e-02,   4.70370911e-02,  -5.18697463e-02, ...,\n",
      "            7.43414136e-03,  -6.44316291e-03,  -4.49717371e-03],\n",
      "         [ -2.75097668e-01,   2.06710309e-01,  -3.11961085e-01, ...,\n",
      "           -1.61499783e-01,   1.16058603e-01,   1.88169345e-01]],\n",
      "\n",
      "        [[ -3.63953680e-01,   3.01205516e-02,  -2.77463764e-01, ...,\n",
      "           -1.32982865e-01,   1.11579612e-01,   2.28481144e-02],\n",
      "         [ -2.55024508e-02,   4.37249988e-02,  -1.88623127e-02, ...,\n",
      "            2.06531748e-01,  -2.74402112e-01,  -4.33669612e-02],\n",
      "         [  3.43261808e-01,   1.30381644e-01,  -1.97121059e-03, ...,\n",
      "           -1.21793255e-01,   9.39247534e-02,   1.15789838e-01],\n",
      "         [  1.66404340e-02,  -1.21503703e-01,  -5.73326536e-02, ...,\n",
      "            8.56397077e-02,   5.50780855e-02,  -3.79140601e-02],\n",
      "         [  2.00736791e-01,   2.82891393e-02,   1.62619099e-01, ...,\n",
      "           -2.03461573e-01,  -7.89195970e-02,  -3.36107728e-03],\n",
      "         [ -6.49582684e-01,   1.80925101e-01,  -3.93445939e-01, ...,\n",
      "           -1.08709924e-01,  -4.11075689e-02,  -1.78207867e-02]],\n",
      "\n",
      "        [[  6.98175952e-02,  -3.67625147e-01,  -2.46520579e-01, ...,\n",
      "           -5.72763719e-02,  -8.90046358e-02,   3.32446694e-02],\n",
      "         [ -1.22555844e-01,   2.87643820e-02,  -1.90653995e-01, ...,\n",
      "            2.61031687e-01,  -2.66105711e-01,  -8.90313531e-05],\n",
      "         [  2.23716453e-01,  -1.73676565e-01,  -2.58460850e-01, ...,\n",
      "           -3.44747990e-01,  -8.03138986e-02,   3.42432499e-01],\n",
      "         [  1.12040497e-01,   2.11829133e-02,  -5.89614175e-02, ...,\n",
      "           -4.34747972e-02,   4.22861055e-02,   7.97007307e-02],\n",
      "         [  1.35793492e-01,   8.41790438e-02,   4.39763255e-02, ...,\n",
      "           -1.11353010e-01,   3.32577806e-03,   1.39886945e-01],\n",
      "         [ -3.31173867e-01,  -4.03243065e-01,  -1.78445265e-01, ...,\n",
      "            1.00312069e-01,  -2.97597963e-02,  -1.65751487e-01]],\n",
      "\n",
      "        [[  1.35757864e-01,  -9.29184258e-03,  -1.59502640e-01, ...,\n",
      "           -8.72453228e-02,  -2.13158175e-01,   3.51836486e-03],\n",
      "         [ -8.64619613e-02,   5.25604896e-02,  -3.98417681e-01, ...,\n",
      "            8.64207149e-02,  -4.42041419e-02,   8.60537663e-02],\n",
      "         [  7.04982802e-02,  -7.26585696e-03,   1.28337353e-01, ...,\n",
      "           -3.26152891e-01,  -1.44259512e-01,   4.97888476e-02],\n",
      "         [ -7.07576051e-02,   4.81560901e-02,  -1.69756114e-01, ...,\n",
      "            9.79895666e-02,  -4.99719121e-02,  -5.39703220e-02],\n",
      "         [  4.32982147e-02,   2.15105534e-01,  -2.21910607e-02, ...,\n",
      "           -5.27222976e-02,  -3.08256689e-02,   3.16716850e-01],\n",
      "         [ -1.03249237e-01,  -3.00175786e-01,  -1.54678207e-02, ...,\n",
      "           -8.52066427e-02,  -1.39853626e-01,  -2.52517685e-02]]],\n",
      "\n",
      "\n",
      "       [[[  1.59835652e-01,  -1.19303174e-01,   1.96167678e-01, ...,\n",
      "            6.12595230e-02,  -4.81509194e-02,   3.18150781e-02],\n",
      "         [  1.03652790e-01,  -3.67003046e-02,  -1.19235501e-01, ...,\n",
      "           -9.08934698e-02,   5.46313934e-02,  -3.73961031e-02],\n",
      "         [ -3.16623598e-01,  -2.50310481e-01,   8.24166909e-02, ...,\n",
      "            1.62525047e-02,   1.08914770e-01,  -1.35428056e-01],\n",
      "         [ -2.14097067e-03,   2.38637207e-03,   3.47000957e-02, ...,\n",
      "           -9.84486938e-02,   6.45091385e-02,  -1.65248901e-01],\n",
      "         [ -1.89048380e-01,  -5.50623098e-03,   2.35852208e-02, ...,\n",
      "            8.13894346e-02,  -1.61496267e-01,   1.07312028e-03],\n",
      "         [  2.26673245e-01,   1.14723004e-01,   9.42297727e-02, ...,\n",
      "            1.01795226e-01,   1.08221481e-02,   1.04022816e-01]],\n",
      "\n",
      "        [[  3.21484685e-01,  -3.29072736e-02,   3.66314575e-02, ...,\n",
      "           -1.33559942e-01,  -9.04015731e-03,  -1.04656003e-01],\n",
      "         [  1.18679227e-03,  -1.99390445e-02,  -9.19690132e-02, ...,\n",
      "            8.86605829e-02,  -3.05846930e-02,  -1.29357353e-01],\n",
      "         [  6.18867464e-02,   1.05008610e-01,   1.10935912e-01, ...,\n",
      "           -1.48286074e-01,  -4.72602136e-02,  -2.66736206e-02],\n",
      "         [  1.62806556e-01,  -7.88848102e-02,   5.25575206e-02, ...,\n",
      "            7.64026865e-02,   1.18546128e-01,  -3.74824554e-02],\n",
      "         [ -1.08979806e-01,  -4.46358323e-03,   1.57755941e-01, ...,\n",
      "            3.62931825e-02,  -2.57429313e-02,  -2.91883629e-02],\n",
      "         [  1.64193764e-01,   6.51787296e-02,  -2.60010064e-01, ...,\n",
      "           -7.46520683e-02,  -1.59617618e-01,   1.49453748e-02]],\n",
      "\n",
      "        [[  1.45910844e-01,   2.22860858e-01,  -2.64155179e-01, ...,\n",
      "            1.85883865e-02,   2.83156127e-01,   2.25146443e-01],\n",
      "         [ -3.81608703e-03,   3.86278443e-02,  -1.34753421e-01, ...,\n",
      "            1.56050622e-01,  -5.77114010e-03,   2.76796110e-02],\n",
      "         [ -6.91536814e-02,   2.96517238e-02,   1.35337129e-01, ...,\n",
      "           -5.30128896e-01,  -8.95550177e-02,  -2.16302440e-01],\n",
      "         [  1.06533393e-02,   5.25515480e-03,  -1.04604401e-01, ...,\n",
      "            5.26599362e-02,   3.06629185e-02,  -9.98034701e-02],\n",
      "         [  6.68168887e-02,   5.67741133e-02,   1.32163838e-01, ...,\n",
      "           -1.53395280e-01,  -6.54600784e-02,  -1.40866667e-01],\n",
      "         [  1.44625053e-01,   7.68626109e-02,  -4.39964801e-01, ...,\n",
      "           -4.10890207e-02,   1.18883900e-01,  -1.31050378e-01]],\n",
      "\n",
      "        [[ -7.76421800e-02,  -2.15490162e-01,  -4.18761224e-01, ...,\n",
      "            4.18993421e-02,   1.93959936e-01,   3.16366225e-01],\n",
      "         [ -9.47889909e-02,   7.62275532e-02,  -9.06577632e-02, ...,\n",
      "           -1.99381441e-01,   5.20128496e-02,  -6.77032024e-02],\n",
      "         [  9.79963541e-02,  -2.70681858e-01,   1.41411349e-01, ...,\n",
      "           -1.45132706e-01,  -8.20836052e-02,  -2.39117458e-01],\n",
      "         [  9.83498469e-02,   1.36079207e-01,  -7.13287592e-02, ...,\n",
      "           -6.58383146e-02,  -3.17575596e-02,   4.63034911e-03],\n",
      "         [  2.29134247e-01,  -4.52856794e-02,   7.53992125e-02, ...,\n",
      "            3.98193896e-02,  -7.66233429e-02,   9.09187421e-02],\n",
      "         [  1.75680310e-01,  -1.90171123e-01,  -5.71554363e-01, ...,\n",
      "            1.61725506e-01,   6.64730370e-02,   6.13968894e-02]],\n",
      "\n",
      "        [[ -7.42885005e-03,  -2.19365269e-01,  -3.13215107e-02, ...,\n",
      "           -2.51181200e-02,  -8.66400376e-02,  -5.22949919e-02],\n",
      "         [  1.96303967e-02,   1.96073521e-02,  -3.50177437e-01, ...,\n",
      "           -3.05813193e-01,   2.84617487e-03,  -2.68917270e-02],\n",
      "         [  1.98538192e-02,  -1.09658368e-01,   1.92307472e-01, ...,\n",
      "            2.63366681e-02,   2.44014151e-02,  -1.12031676e-01],\n",
      "         [  3.89542356e-02,   2.35221460e-01,   7.40624368e-02, ...,\n",
      "           -1.19810201e-01,   4.12098020e-02,   7.73988366e-02],\n",
      "         [  1.57996640e-01,   3.16886976e-02,  -3.33841406e-02, ...,\n",
      "            5.13603352e-02,  -8.59876722e-02,   5.00613898e-02],\n",
      "         [ -4.60822880e-02,  -2.24184290e-01,  -1.84997410e-01, ...,\n",
      "           -7.91434497e-02,   5.07478975e-02,  -2.25717984e-02]]],\n",
      "\n",
      "\n",
      "       [[[  1.32368624e-01,  -8.68832096e-02,   7.21862912e-02, ...,\n",
      "            1.09946162e-01,  -7.45774433e-02,   9.50753614e-02],\n",
      "         [ -8.14647675e-02,  -1.21673286e-01,   4.30282503e-02, ...,\n",
      "           -1.95746303e-01,   7.24513009e-02,  -7.19441548e-02],\n",
      "         [ -1.93617374e-01,   6.72355294e-02,   1.94936439e-01, ...,\n",
      "            7.29514584e-02,   1.66202471e-01,  -2.16164347e-02],\n",
      "         [ -8.95799547e-02,   3.05271037e-02,   4.13959399e-02, ...,\n",
      "           -1.04776397e-02,   6.94931522e-02,   7.22236782e-02],\n",
      "         [ -2.55348116e-01,  -1.21264480e-01,   1.35155067e-01, ...,\n",
      "            1.40148059e-01,  -3.23679335e-02,  -5.00446521e-02],\n",
      "         [ -5.70724532e-02,  -1.44495770e-01,  -1.66101921e-02, ...,\n",
      "            2.23879114e-01,   3.17807049e-02,   2.88110357e-02]],\n",
      "\n",
      "        [[ -1.35883670e-02,   2.27190200e-02,   2.17007563e-01, ...,\n",
      "           -1.12592451e-01,  -1.28232628e-01,   5.67602143e-02],\n",
      "         [ -1.13857441e-01,  -1.19451262e-01,   7.16213807e-02, ...,\n",
      "           -2.56171137e-01,   4.53477576e-02,   7.09272623e-02],\n",
      "         [  3.03799547e-02,   1.54054850e-01,   9.18484852e-02, ...,\n",
      "           -2.73866326e-01,  -1.65848210e-02,  -1.98208958e-01],\n",
      "         [  2.66298838e-02,   1.75916791e-01,  -1.49791855e-02, ...,\n",
      "            5.37096635e-02,  -8.92604887e-03,  -5.82157299e-02],\n",
      "         [  9.77761745e-02,   7.98614174e-02,   1.27583265e-01, ...,\n",
      "            9.30697992e-02,   1.12877861e-01,  -1.51382145e-02],\n",
      "         [ -3.97566520e-02,   1.21449247e-01,   7.25272000e-02, ...,\n",
      "            1.65695429e-01,   1.09751541e-02,  -1.51491240e-01]],\n",
      "\n",
      "        [[ -4.58141379e-02,   1.56634465e-01,   2.56290376e-01, ...,\n",
      "           -1.72457471e-01,   1.87232234e-02,  -1.89635873e-01],\n",
      "         [ -1.60237253e-02,   2.26702034e-01,   2.00574800e-01, ...,\n",
      "           -1.53351560e-01,   1.37480304e-01,  -2.27656856e-01],\n",
      "         [ -1.54120401e-01,  -2.44680326e-02,   5.01687750e-02, ...,\n",
      "           -1.11364067e-01,  -1.68789420e-02,  -1.34296581e-01],\n",
      "         [ -1.00846011e-02,   1.35862932e-01,   1.41338125e-01, ...,\n",
      "           -9.66166109e-02,   7.41447583e-02,   1.33549586e-01],\n",
      "         [  1.63636729e-01,  -2.96546780e-02,   1.45817131e-01, ...,\n",
      "           -4.12249900e-02,   3.45763862e-02,   1.23267267e-02],\n",
      "         [ -8.70623663e-02,  -1.20245636e-01,   3.73218544e-02, ...,\n",
      "           -1.14426181e-01,  -1.32109731e-01,  -2.32679814e-01]],\n",
      "\n",
      "        [[  8.89302883e-03,  -1.09997287e-01,  -1.35770440e-02, ...,\n",
      "           -1.09666027e-01,   6.75861165e-02,  -1.40859280e-02],\n",
      "         [ -1.54014900e-01,   3.30294609e-01,   1.62935525e-01, ...,\n",
      "           -4.90113705e-01,   8.02613422e-02,  -4.60355058e-02],\n",
      "         [ -7.90227391e-03,  -8.44737589e-02,   1.42306432e-01, ...,\n",
      "            3.99910063e-01,  -4.46706042e-02,  -3.14157493e-02],\n",
      "         [  1.25838503e-01,   2.72808999e-01,   1.50948623e-02, ...,\n",
      "           -1.74585685e-01,  -1.29342722e-02,   1.53295010e-01],\n",
      "         [  6.96008056e-02,   1.10582486e-02,  -2.33266596e-02, ...,\n",
      "            1.62428230e-01,  -9.63868350e-02,  -9.58910137e-02],\n",
      "         [  9.37244520e-02,  -2.43539125e-01,  -1.24458127e-01, ...,\n",
      "            2.45223567e-01,  -1.32421896e-01,  -1.14629477e-01]],\n",
      "\n",
      "        [[ -4.66408692e-02,  -1.55696437e-01,   4.64976020e-02, ...,\n",
      "            2.02227756e-02,   1.32789254e-01,   1.47363394e-01],\n",
      "         [  5.98369427e-02,   1.74585745e-01,  -2.19980683e-02, ...,\n",
      "           -1.69099480e-01,  -1.69072412e-02,   1.31185934e-01],\n",
      "         [ -7.09896684e-02,  -4.18696776e-02,   1.13226466e-01, ...,\n",
      "            1.33117493e-02,   8.86131227e-02,  -1.92266002e-01],\n",
      "         [ -1.39173111e-02,   1.78919882e-01,  -2.37007043e-03, ...,\n",
      "           -1.60209611e-01,   9.43559408e-03,   1.57982558e-01],\n",
      "         [  2.61416915e-03,  -6.57448769e-02,   1.04796767e-01, ...,\n",
      "            1.34841517e-01,   9.11882669e-02,  -4.66661602e-02],\n",
      "         [  1.36795521e-01,  -7.99831003e-02,  -1.77121777e-02, ...,\n",
      "           -1.46380842e-01,  -2.25476008e-02,   1.85515080e-02]]]], dtype=float32)}\n"
     ]
    }
   ],
   "source": [
    "with tf.Session() as sess:\n",
    "    saver.restore(sess, './model.ckpt')\n",
    "    print(sess.run(weights))"
   ]
  },
  {
   "cell_type": "markdown",
   "metadata": {},
   "source": [
    "---\n",
    "\n",
    "## Step 3: Test a Model on New Images\n",
    "\n",
    "To give yourself more insight into how your model is working, download at least five pictures of German traffic signs from the web and use your model to predict the traffic sign type.\n",
    "\n",
    "You may find `signnames.csv` useful as it contains mappings from the class id (integer) to the actual sign name."
   ]
  },
  {
   "cell_type": "markdown",
   "metadata": {},
   "source": [
    "### Load and Output the Images"
   ]
  },
  {
   "cell_type": "code",
   "execution_count": 59,
   "metadata": {
    "collapsed": true
   },
   "outputs": [],
   "source": [
    "### Load the images and plot them here.\n",
    "### Feel free to use as many code cells as needed."
   ]
  },
  {
   "cell_type": "markdown",
   "metadata": {},
   "source": [
    "### Predict the Sign Type for Each Image"
   ]
  },
  {
   "cell_type": "code",
   "execution_count": 60,
   "metadata": {
    "collapsed": true
   },
   "outputs": [],
   "source": [
    "### Run the predictions here and use the model to output the prediction for each image.\n",
    "### Make sure to pre-process the images with the same pre-processing pipeline used earlier.\n",
    "### Feel free to use as many code cells as needed."
   ]
  },
  {
   "cell_type": "markdown",
   "metadata": {},
   "source": [
    "### Analyze Performance"
   ]
  },
  {
   "cell_type": "code",
   "execution_count": 61,
   "metadata": {
    "collapsed": true
   },
   "outputs": [],
   "source": [
    "### Calculate the accuracy for these 5 new images. \n",
    "### For example, if the model predicted 1 out of 5 signs correctly, it's 20% accurate on these new images."
   ]
  },
  {
   "cell_type": "markdown",
   "metadata": {},
   "source": [
    "### Output Top 5 Softmax Probabilities For Each Image Found on the Web"
   ]
  },
  {
   "cell_type": "markdown",
   "metadata": {},
   "source": [
    "For each of the new images, print out the model's softmax probabilities to show the **certainty** of the model's predictions (limit the output to the top 5 probabilities for each image). [`tf.nn.top_k`](https://www.tensorflow.org/versions/r0.12/api_docs/python/nn.html#top_k) could prove helpful here. \n",
    "\n",
    "The example below demonstrates how tf.nn.top_k can be used to find the top k predictions for each image.\n",
    "\n",
    "`tf.nn.top_k` will return the values and indices (class ids) of the top k predictions. So if k=3, for each sign, it'll return the 3 largest probabilities (out of a possible 43) and the correspoding class ids.\n",
    "\n",
    "Take this numpy array as an example. The values in the array represent predictions. The array contains softmax probabilities for five candidate images with six possible classes. `tk.nn.top_k` is used to choose the three classes with the highest probability:\n",
    "\n",
    "```\n",
    "# (5, 6) array\n",
    "a = np.array([[ 0.24879643,  0.07032244,  0.12641572,  0.34763842,  0.07893497,\n",
    "         0.12789202],\n",
    "       [ 0.28086119,  0.27569815,  0.08594638,  0.0178669 ,  0.18063401,\n",
    "         0.15899337],\n",
    "       [ 0.26076848,  0.23664738,  0.08020603,  0.07001922,  0.1134371 ,\n",
    "         0.23892179],\n",
    "       [ 0.11943333,  0.29198961,  0.02605103,  0.26234032,  0.1351348 ,\n",
    "         0.16505091],\n",
    "       [ 0.09561176,  0.34396535,  0.0643941 ,  0.16240774,  0.24206137,\n",
    "         0.09155967]])\n",
    "```\n",
    "\n",
    "Running it through `sess.run(tf.nn.top_k(tf.constant(a), k=3))` produces:\n",
    "\n",
    "```\n",
    "TopKV2(values=array([[ 0.34763842,  0.24879643,  0.12789202],\n",
    "       [ 0.28086119,  0.27569815,  0.18063401],\n",
    "       [ 0.26076848,  0.23892179,  0.23664738],\n",
    "       [ 0.29198961,  0.26234032,  0.16505091],\n",
    "       [ 0.34396535,  0.24206137,  0.16240774]]), indices=array([[3, 0, 5],\n",
    "       [0, 1, 4],\n",
    "       [0, 5, 1],\n",
    "       [1, 3, 5],\n",
    "       [1, 4, 3]], dtype=int32))\n",
    "```\n",
    "\n",
    "Looking just at the first row we get `[ 0.34763842,  0.24879643,  0.12789202]`, you can confirm these are the 3 largest probabilities in `a`. You'll also notice `[3, 0, 5]` are the corresponding indices."
   ]
  },
  {
   "cell_type": "code",
   "execution_count": 62,
   "metadata": {
    "collapsed": true
   },
   "outputs": [],
   "source": [
    "### Print out the top five softmax probabilities for the predictions on the German traffic sign images found on the web. \n",
    "### Feel free to use as many code cells as needed."
   ]
  },
  {
   "cell_type": "markdown",
   "metadata": {},
   "source": [
    "---\n",
    "\n",
    "## Step 4: Visualize the Neural Network's State with Test Images\n",
    "\n",
    " This Section is not required to complete but acts as an additional excersise for understaning the output of a neural network's weights. While neural networks can be a great learning device they are often referred to as a black box. We can understand what the weights of a neural network look like better by plotting their feature maps. After successfully training your neural network you can see what it's feature maps look like by plotting the output of the network's weight layers in response to a test stimuli image. From these plotted feature maps, it's possible to see what characteristics of an image the network finds interesting. For a sign, maybe the inner network feature maps react with high activation to the sign's boundary outline or to the contrast in the sign's painted symbol.\n",
    "\n",
    " Provided for you below is the function code that allows you to get the visualization output of any tensorflow weight layer you want. The inputs to the function should be a stimuli image, one used during training or a new one you provided, and then the tensorflow variable name that represents the layer's state during the training process, for instance if you wanted to see what the [LeNet lab's](https://classroom.udacity.com/nanodegrees/nd013/parts/fbf77062-5703-404e-b60c-95b78b2f3f9e/modules/6df7ae49-c61c-4bb2-a23e-6527e69209ec/lessons/601ae704-1035-4287-8b11-e2c2716217ad/concepts/d4aca031-508f-4e0b-b493-e7b706120f81) feature maps looked like for it's second convolutional layer you could enter conv2 as the tf_activation variable.\n",
    "\n",
    "For an example of what feature map outputs look like, check out NVIDIA's results in their paper [End-to-End Deep Learning for Self-Driving Cars](https://devblogs.nvidia.com/parallelforall/deep-learning-self-driving-cars/) in the section Visualization of internal CNN State. NVIDIA was able to show that their network's inner weights had high activations to road boundary lines by comparing feature maps from an image with a clear path to one without. Try experimenting with a similar test to show that your trained network's weights are looking for interesting features, whether it's looking at differences in feature maps from images with or without a sign, or even what feature maps look like in a trained network vs a completely untrained one on the same sign image.\n",
    "\n",
    "<figure>\n",
    " <img src=\"visualize_cnn.png\" width=\"380\" alt=\"Combined Image\" />\n",
    " <figcaption>\n",
    " <p></p> \n",
    " <p style=\"text-align: center;\"> Your output should look something like this (above)</p> \n",
    " </figcaption>\n",
    "</figure>\n",
    " <p></p> \n"
   ]
  },
  {
   "cell_type": "code",
   "execution_count": 134,
   "metadata": {
    "collapsed": true
   },
   "outputs": [],
   "source": [
    "### Visualize your network's feature maps here.\n",
    "### Feel free to use as many code cells as needed.\n",
    "\n",
    "# image_input: the test image being fed into the network to produce the feature maps\n",
    "# tf_activation: should be a tf variable name used during your training procedure that represents the calculated state of a specific weight layer\n",
    "# activation_min/max: can be used to view the activation contrast in more detail, by default matplot sets min and max to the actual min and max values of the output\n",
    "# plt_num: used to plot out multiple different weight feature map sets on the same block, just extend the plt number for each new feature map entry\n",
    "\n",
    "def outputFeatureMap(image_input, tf_activation, activation_min=-1, activation_max=-1 ,plt_num=1):\n",
    "    # Here make sure to preprocess your image_input in a way your network expects\n",
    "    # with size, normalization, ect if needed\n",
    "    # image_input =\n",
    "    # Note: x should be the same name as your network's tensorflow data placeholder variable\n",
    "    # If you get an error tf_activation is not defined it maybe having trouble accessing the variable from inside a function\n",
    "    #activation = tf_activation.eval(session=sess,feed_dict={x : image_input})\n",
    "    activation = tf_activation.eval(session=sess)\n",
    "    featuremaps = activation.shape[3]\n",
    "    plt.figure(plt_num, figsize=(15,15))\n",
    "    for featuremap in range(featuremaps):\n",
    "        plt.subplot(6,8, featuremap+1) # sets the number of feature maps to show on each row and column\n",
    "        plt.title('FeatureMap ' + str(featuremap)) # displays the feature map number\n",
    "        if activation_min != -1 & activation_max != -1:\n",
    "            plt.imshow(activation[0,:,:, featuremap], interpolation=\"nearest\", vmin =activation_min, vmax=activation_max, cmap=\"gray\")\n",
    "        elif activation_max != -1:\n",
    "            plt.imshow(activation[0,:,:, featuremap], interpolation=\"nearest\", vmax=activation_max, cmap=\"gray\")\n",
    "        elif activation_min !=-1:\n",
    "            plt.imshow(activation[0,:,:, featuremap], interpolation=\"nearest\", vmin=activation_min, cmap=\"gray\")\n",
    "        else:\n",
    "            plt.imshow(activation[0,:,:, featuremap], interpolation=\"nearest\", cmap=\"gray\")"
   ]
  },
  {
   "cell_type": "markdown",
   "metadata": {},
   "source": [
    "### Re-declare TensorFlow variables"
   ]
  },
  {
   "cell_type": "code",
   "execution_count": 117,
   "metadata": {
    "collapsed": true
   },
   "outputs": [],
   "source": [
    "tf.reset_default_graph()\n",
    "x = tf.placeholder(tf.float32, (32, 32, 3))\n",
    "#Declare weights here\n",
    "weights = {\n",
    "    \"wconv1\": tf.Variable(tf.truncated_normal(shape=(5, 5, 3, 6), mean=mu, stddev=sigma), name=\"wconv1\"),\n",
    "    \"wconv2\": tf.Variable(tf.truncated_normal(shape=(5, 5, 6, 16), mean=mu, stddev=sigma), name=\"wconv2\"),\n",
    "    \"wfull1\": tf.Variable(tf.truncated_normal(shape=(400, 120), mean=mu, stddev=sigma), name=\"wfull1\"),\n",
    "    \"wfull2\": tf.Variable(tf.truncated_normal(shape=(120, 84), mean=mu, stddev=sigma), name=\"wfull2\"),\n",
    "    \"wfull3\": tf.Variable(tf.truncated_normal(shape=(84, n_classes), mean=mu, stddev=sigma), name=\"wfull3\")\n",
    "    #\"wconv1\": tf.Variable(tf.truncated_normal(shape=(5, 5, 3, 6))),\n",
    "    #\"wconv2\": tf.Variable(tf.truncated_normal(shape=(5, 5, 6, 16))),\n",
    "    #\"wfull1\": tf.Variable(tf.truncated_normal(shape=(400, 120))),\n",
    "    #\"wfull2\": tf.Variable(tf.truncated_normal(shape=(120, 84))),\n",
    "    #\"wfull3\": tf.Variable(tf.truncated_normal(shape=(84, n_classes)))\n",
    "}\n",
    "#Declare biases here\n",
    "biases = {\n",
    "    \"bconv1\": tf.Variable(tf.zeros(6)),\n",
    "    \"bconv2\": tf.Variable(tf.zeros(16)),\n",
    "    \"bfull1\": tf.Variable(tf.zeros(120)),\n",
    "    \"bfull2\": tf.Variable(tf.zeros(84)),\n",
    "    \"bfull3\": tf.Variable(tf.zeros(n_classes))\n",
    "}"
   ]
  },
  {
   "cell_type": "code",
   "execution_count": 137,
   "metadata": {
    "collapsed": false
   },
   "outputs": [
    {
     "data": {
      "image/png": "[encoded data removed]",
      "text/plain": [
       "<matplotlib.figure.Figure at 0x7f0534c05b70>"
      ]
     },
     "metadata": {},
     "output_type": "display_data"
    },
    {
     "ename": "TypeError",
     "evalue": "Fetch argument None has invalid type <class 'NoneType'>",
     "output_type": "error",
     "traceback": [
      "\u001b[0;31m---------------------------------------------------------------------------\u001b[0m",
      "\u001b[0;31mTypeError\u001b[0m                                 Traceback (most recent call last)",
      "\u001b[0;32m<ipython-input-137-f8b0578600f1>\u001b[0m in \u001b[0;36m<module>\u001b[0;34m()\u001b[0m\n\u001b[1;32m      6\u001b[0m \u001b[0;32mwith\u001b[0m \u001b[0mtf\u001b[0m\u001b[0;34m.\u001b[0m\u001b[0mSession\u001b[0m\u001b[0;34m(\u001b[0m\u001b[0;34m)\u001b[0m \u001b[0;32mas\u001b[0m \u001b[0msess\u001b[0m\u001b[0;34m:\u001b[0m\u001b[0;34m\u001b[0m\u001b[0m\n\u001b[1;32m      7\u001b[0m     \u001b[0msaver\u001b[0m\u001b[0;34m.\u001b[0m\u001b[0mrestore\u001b[0m\u001b[0;34m(\u001b[0m\u001b[0msess\u001b[0m\u001b[0;34m,\u001b[0m \u001b[0;34m'./model.ckpt'\u001b[0m\u001b[0;34m)\u001b[0m\u001b[0;34m\u001b[0m\u001b[0m\n\u001b[0;32m----> 8\u001b[0;31m     \u001b[0msess\u001b[0m\u001b[0;34m.\u001b[0m\u001b[0mrun\u001b[0m\u001b[0;34m(\u001b[0m\u001b[0moutputFeatureMap\u001b[0m\u001b[0;34m(\u001b[0m\u001b[0mX_train\u001b[0m\u001b[0;34m[\u001b[0m\u001b[0;36m100\u001b[0m\u001b[0;34m]\u001b[0m\u001b[0;34m,\u001b[0m \u001b[0mweights\u001b[0m\u001b[0;34m[\u001b[0m\u001b[0;34m\"wconv2\"\u001b[0m\u001b[0;34m]\u001b[0m\u001b[0;34m)\u001b[0m\u001b[0;34m)\u001b[0m\u001b[0;34m\u001b[0m\u001b[0m\n\u001b[0m\u001b[1;32m      9\u001b[0m \u001b[0;34m\u001b[0m\u001b[0m\n",
      "\u001b[0;32m/home/carnd/anaconda3/envs/carnd-term1/lib/python3.5/site-packages/tensorflow/python/client/session.py\u001b[0m in \u001b[0;36mrun\u001b[0;34m(self, fetches, feed_dict, options, run_metadata)\u001b[0m\n\u001b[1;32m    764\u001b[0m     \u001b[0;32mtry\u001b[0m\u001b[0;34m:\u001b[0m\u001b[0;34m\u001b[0m\u001b[0m\n\u001b[1;32m    765\u001b[0m       result = self._run(None, fetches, feed_dict, options_ptr,\n\u001b[0;32m--> 766\u001b[0;31m                          run_metadata_ptr)\n\u001b[0m\u001b[1;32m    767\u001b[0m       \u001b[0;32mif\u001b[0m \u001b[0mrun_metadata\u001b[0m\u001b[0;34m:\u001b[0m\u001b[0;34m\u001b[0m\u001b[0m\n\u001b[1;32m    768\u001b[0m         \u001b[0mproto_data\u001b[0m \u001b[0;34m=\u001b[0m \u001b[0mtf_session\u001b[0m\u001b[0;34m.\u001b[0m\u001b[0mTF_GetBuffer\u001b[0m\u001b[0;34m(\u001b[0m\u001b[0mrun_metadata_ptr\u001b[0m\u001b[0;34m)\u001b[0m\u001b[0;34m\u001b[0m\u001b[0m\n",
      "\u001b[0;32m/home/carnd/anaconda3/envs/carnd-term1/lib/python3.5/site-packages/tensorflow/python/client/session.py\u001b[0m in \u001b[0;36m_run\u001b[0;34m(self, handle, fetches, feed_dict, options, run_metadata)\u001b[0m\n\u001b[1;32m    949\u001b[0m \u001b[0;34m\u001b[0m\u001b[0m\n\u001b[1;32m    950\u001b[0m     \u001b[0;31m# Create a fetch handler to take care of the structure of fetches.\u001b[0m\u001b[0;34m\u001b[0m\u001b[0;34m\u001b[0m\u001b[0m\n\u001b[0;32m--> 951\u001b[0;31m     \u001b[0mfetch_handler\u001b[0m \u001b[0;34m=\u001b[0m \u001b[0m_FetchHandler\u001b[0m\u001b[0;34m(\u001b[0m\u001b[0mself\u001b[0m\u001b[0;34m.\u001b[0m\u001b[0m_graph\u001b[0m\u001b[0;34m,\u001b[0m \u001b[0mfetches\u001b[0m\u001b[0;34m,\u001b[0m \u001b[0mfeed_dict_string\u001b[0m\u001b[0;34m)\u001b[0m\u001b[0;34m\u001b[0m\u001b[0m\n\u001b[0m\u001b[1;32m    952\u001b[0m \u001b[0;34m\u001b[0m\u001b[0m\n\u001b[1;32m    953\u001b[0m     \u001b[0;31m# Run request and get response.\u001b[0m\u001b[0;34m\u001b[0m\u001b[0;34m\u001b[0m\u001b[0m\n",
      "\u001b[0;32m/home/carnd/anaconda3/envs/carnd-term1/lib/python3.5/site-packages/tensorflow/python/client/session.py\u001b[0m in \u001b[0;36m__init__\u001b[0;34m(self, graph, fetches, feeds)\u001b[0m\n\u001b[1;32m    405\u001b[0m     \"\"\"\n\u001b[1;32m    406\u001b[0m     \u001b[0;32mwith\u001b[0m \u001b[0mgraph\u001b[0m\u001b[0;34m.\u001b[0m\u001b[0mas_default\u001b[0m\u001b[0;34m(\u001b[0m\u001b[0;34m)\u001b[0m\u001b[0;34m:\u001b[0m\u001b[0;34m\u001b[0m\u001b[0m\n\u001b[0;32m--> 407\u001b[0;31m       \u001b[0mself\u001b[0m\u001b[0;34m.\u001b[0m\u001b[0m_fetch_mapper\u001b[0m \u001b[0;34m=\u001b[0m \u001b[0m_FetchMapper\u001b[0m\u001b[0;34m.\u001b[0m\u001b[0mfor_fetch\u001b[0m\u001b[0;34m(\u001b[0m\u001b[0mfetches\u001b[0m\u001b[0;34m)\u001b[0m\u001b[0;34m\u001b[0m\u001b[0m\n\u001b[0m\u001b[1;32m    408\u001b[0m     \u001b[0mself\u001b[0m\u001b[0;34m.\u001b[0m\u001b[0m_fetches\u001b[0m \u001b[0;34m=\u001b[0m \u001b[0;34m[\u001b[0m\u001b[0;34m]\u001b[0m\u001b[0;34m\u001b[0m\u001b[0m\n\u001b[1;32m    409\u001b[0m     \u001b[0mself\u001b[0m\u001b[0;34m.\u001b[0m\u001b[0m_targets\u001b[0m \u001b[0;34m=\u001b[0m \u001b[0;34m[\u001b[0m\u001b[0;34m]\u001b[0m\u001b[0;34m\u001b[0m\u001b[0m\n",
      "\u001b[0;32m/home/carnd/anaconda3/envs/carnd-term1/lib/python3.5/site-packages/tensorflow/python/client/session.py\u001b[0m in \u001b[0;36mfor_fetch\u001b[0;34m(fetch)\u001b[0m\n\u001b[1;32m    225\u001b[0m     \u001b[0;32mif\u001b[0m \u001b[0mfetch\u001b[0m \u001b[0;32mis\u001b[0m \u001b[0;32mNone\u001b[0m\u001b[0;34m:\u001b[0m\u001b[0;34m\u001b[0m\u001b[0m\n\u001b[1;32m    226\u001b[0m       raise TypeError('Fetch argument %r has invalid type %r' %\n\u001b[0;32m--> 227\u001b[0;31m                       (fetch, type(fetch)))\n\u001b[0m\u001b[1;32m    228\u001b[0m     \u001b[0;32melif\u001b[0m \u001b[0misinstance\u001b[0m\u001b[0;34m(\u001b[0m\u001b[0mfetch\u001b[0m\u001b[0;34m,\u001b[0m \u001b[0;34m(\u001b[0m\u001b[0mlist\u001b[0m\u001b[0;34m,\u001b[0m \u001b[0mtuple\u001b[0m\u001b[0;34m)\u001b[0m\u001b[0;34m)\u001b[0m\u001b[0;34m:\u001b[0m\u001b[0;34m\u001b[0m\u001b[0m\n\u001b[1;32m    229\u001b[0m       \u001b[0;31m# NOTE(touts): This is also the code path for namedtuples.\u001b[0m\u001b[0;34m\u001b[0m\u001b[0;34m\u001b[0m\u001b[0m\n",
      "\u001b[0;31mTypeError\u001b[0m: Fetch argument None has invalid type <class 'NoneType'>"
     ]
    },
    {
     "data": {
      "image/png": "[encoded data removed]",
      "text/plain": [
       "<matplotlib.figure.Figure at 0x7f0590643f98>"
      ]
     },
     "metadata": {},
     "output_type": "display_data"
    }
   ],
   "source": [
    "image = X_train[100].squeeze()\n",
    "plt.figure(figsize=(1,1))\n",
    "plt.imshow(image)\n",
    "plt.show()\n",
    "saver = tf.train.Saver()\n",
    "with tf.Session() as sess:\n",
    "    saver.restore(sess, './model.ckpt')\n",
    "    sess.run(outputFeatureMap(X_train[100], weights[\"wconv2\"]))\n",
    "    "
   ]
  },
  {
   "cell_type": "markdown",
   "metadata": {},
   "source": [
    "### Question 9\n",
    "\n",
    "Discuss how you used the visual output of your trained network's feature maps to show that it had learned to look for interesting characteristics in traffic sign images\n"
   ]
  },
  {
   "cell_type": "markdown",
   "metadata": {},
   "source": [
    "**Answer:**"
   ]
  },
  {
   "cell_type": "markdown",
   "metadata": {},
   "source": [
    "> **Note**: Once you have completed all of the code implementations and successfully answered each question above, you may finalize your work by exporting the iPython Notebook as an HTML document. You can do this by using the menu above and navigating to  \\n\",\n",
    "    \"**File -> Download as -> HTML (.html)**. Include the finished document along with this notebook as your submission."
   ]
  },
  {
   "cell_type": "markdown",
   "metadata": {},
   "source": [
    "### Project Writeup\n",
    "\n",
    "Once you have completed the code implementation, document your results in a project writeup using this [template](https://github.com/udacity/CarND-Traffic-Sign-Classifier-Project/blob/master/writeup_template.md) as a guide. The writeup can be in a markdown or pdf file. "
   ]
  },
  {
   "cell_type": "code",
   "execution_count": null,
   "metadata": {
    "collapsed": true
   },
   "outputs": [],
   "source": []
  }
 ],
 "metadata": {
  "anaconda-cloud": {},
  "kernelspec": {
   "display_name": "Python 3",
   "language": "python",
   "name": "python3"
  },
  "language_info": {
   "codemirror_mode": {
    "name": "ipython",
    "version": 3
   },
   "file_extension": ".py",
   "mimetype": "text/x-python",
   "name": "python",
   "nbconvert_exporter": "python",
   "pygments_lexer": "ipython3",
   "version": "3.5.2"
  },
  "widgets": {
   "state": {},
   "version": "1.1.2"
  }
 },
 "nbformat": 4,
 "nbformat_minor": 1
}
