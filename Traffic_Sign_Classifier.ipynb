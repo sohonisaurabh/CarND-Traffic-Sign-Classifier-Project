{
 "cells": [
  {
   "cell_type": "markdown",
   "metadata": {},
   "source": [
    "# Self-Driving Car Engineer Nanodegree\n",
    "\n",
    "## Deep Learning\n",
    "\n",
    "## Project: Build a Traffic Sign Recognition Classifier\n",
    "\n",
    "In this notebook, a template is provided for you to implement your functionality in stages, which is required to successfully complete this project. If additional code is required that cannot be included in the notebook, be sure that the Python code is successfully imported and included in your submission if necessary. \n",
    "\n",
    "> **Note**: Once you have completed all of the code implementations, you need to finalize your work by exporting the iPython Notebook as an HTML document. Before exporting the notebook to html, all of the code cells need to have been run so that reviewers can see the final implementation and output. You can then export the notebook by using the menu above and navigating to  \\n\",\n",
    "    \"**File -> Download as -> HTML (.html)**. Include the finished document along with this notebook as your submission. \n",
    "\n",
    "In addition to implementing code, there is a writeup to complete. The writeup should be completed in a separate file, which can be either a markdown file or a pdf document. There is a [write up template](https://github.com/udacity/CarND-Traffic-Sign-Classifier-Project/blob/master/writeup_template.md) that can be used to guide the writing process. Completing the code template and writeup template will cover all of the [rubric points](https://review.udacity.com/#!/rubrics/481/view) for this project.\n",
    "\n",
    "The [rubric](https://review.udacity.com/#!/rubrics/481/view) contains \"Stand Out Suggestions\" for enhancing the project beyond the minimum requirements. The stand out suggestions are optional. If you decide to pursue the \"stand out suggestions\", you can include the code in this Ipython notebook and also discuss the results in the writeup file.\n",
    "\n",
    "\n",
    ">**Note:** Code and Markdown cells can be executed using the **Shift + Enter** keyboard shortcut. In addition, Markdown cells can be edited by typically double-clicking the cell to enter edit mode."
   ]
  },
  {
   "cell_type": "markdown",
   "metadata": {},
   "source": [
    "---\n",
    "## Step 0: Load The Data"
   ]
  },
  {
   "cell_type": "code",
   "execution_count": 307,
   "metadata": {
    "collapsed": false
   },
   "outputs": [],
   "source": [
    "# Load pickled data\n",
    "import pickle\n",
    "\n",
    "# TODO: Fill this in based on where you saved the training and testing data\n",
    "\n",
    "training_file = \"dataset/train.p\"\n",
    "validation_file= \"dataset/valid.p\"\n",
    "testing_file = \"dataset/test.p\"\n",
    "\n",
    "with open(training_file, mode='rb') as f:\n",
    "    train = pickle.load(f)\n",
    "with open(validation_file, mode='rb') as f:\n",
    "    valid = pickle.load(f)\n",
    "with open(testing_file, mode='rb') as f:\n",
    "    test = pickle.load(f)\n",
    "\n",
    "X_train, y_train = train['features'], train['labels']\n",
    "X_validation, y_validation = valid['features'], valid['labels']\n",
    "X_test, y_test = test['features'], test['labels']\n",
    "\n",
    "assert(len(X_train) == len(y_train))\n",
    "assert(len(X_validation) == len(y_validation))\n",
    "assert(len(X_test) == len(y_test))\n",
    "#print (X_test, y_test)\n",
    "#print()\n",
    "#print(\"Image Shape: {}\".format(X_train[0].shape))\n",
    "#print()\n",
    "#print(\"Training Set:   {} samples\".format(len(X_train)))\n",
    "#print(\"Validation Set: {} samples\".format(len(X_validation)))\n",
    "#print(\"Test Set:       {} samples\".format(len(X_test)))\n"
   ]
  },
  {
   "cell_type": "markdown",
   "metadata": {},
   "source": [
    "---\n",
    "\n",
    "## Step 1: Dataset Summary & Exploration\n",
    "\n",
    "The pickled data is a dictionary with 4 key/value pairs:\n",
    "\n",
    "- `'features'` is a 4D array containing raw pixel data of the traffic sign images, (num examples, width, height, channels).\n",
    "- `'labels'` is a 1D array containing the label/class id of the traffic sign. The file `signnames.csv` contains id -> name mappings for each id.\n",
    "- `'sizes'` is a list containing tuples, (width, height) representing the the original width and height the image.\n",
    "- `'coords'` is a list containing tuples, (x1, y1, x2, y2) representing coordinates of a bounding box around the sign in the image. **THESE COORDINATES ASSUME THE ORIGINAL IMAGE. THE PICKLED DATA CONTAINS RESIZED VERSIONS (32 by 32) OF THESE IMAGES**\n",
    "\n",
    "Complete the basic data summary below. Use python, numpy and/or pandas methods to calculate the data summary rather than hard coding the results. For example, the [pandas shape method](http://pandas.pydata.org/pandas-docs/stable/generated/pandas.DataFrame.shape.html) might be useful for calculating some of the summary results. "
   ]
  },
  {
   "cell_type": "markdown",
   "metadata": {},
   "source": [
    "### Provide a Basic Summary of the Data Set Using Python, Numpy and/or Pandas"
   ]
  },
  {
   "cell_type": "code",
   "execution_count": 308,
   "metadata": {
    "collapsed": false
   },
   "outputs": [
    {
     "name": "stdout",
     "output_type": "stream",
     "text": [
      "Number of training examples = 34799\n",
      "Number of validation examples = 4410\n",
      "Number of testing examples = 12630\n",
      "Image data shape = 32x32\n",
      "Number of classes = 43\n"
     ]
    }
   ],
   "source": [
    "### Replace each question mark with the appropriate value. \n",
    "### Use python, pandas or numpy methods rather than hard coding the results\n",
    "import numpy as np\n",
    "\n",
    "# Number of training examples\n",
    "n_train = X_train.shape[0]\n",
    "\n",
    "#Number of validation examples\n",
    "n_validation = X_validation.shape[0]\n",
    "\n",
    "#Number of testing examples.\n",
    "n_test = X_test.shape[0]\n",
    "\n",
    "# TODO: What's the shape of an traffic sign image?\n",
    "image_shape = str(X_train[2].shape[0]) + \"x\" + str(X_train[2].shape[1])\n",
    "\n",
    "# TODO: How many unique classes/labels there are in the dataset.\n",
    "n_classes = len(np.unique(y_train))\n",
    "\n",
    "print(\"Number of training examples =\", n_train)\n",
    "print(\"Number of validation examples =\", n_validation)\n",
    "print(\"Number of testing examples =\", n_test)\n",
    "print(\"Image data shape =\", image_shape)\n",
    "print(\"Number of classes =\", n_classes)"
   ]
  },
  {
   "cell_type": "markdown",
   "metadata": {},
   "source": [
    "### Include an exploratory visualization of the dataset"
   ]
  },
  {
   "cell_type": "markdown",
   "metadata": {},
   "source": [
    "Visualize the German Traffic Signs Dataset using the pickled file(s). This is open ended, suggestions include: plotting traffic sign images, plotting the count of each sign, etc.\n",
    "\n",
    "The [Matplotlib](http://matplotlib.org/) [examples](http://matplotlib.org/examples/index.html) and [gallery](http://matplotlib.org/gallery.html) pages are a great resource for doing visualizations in Python.\n",
    "\n",
    "**NOTE:** It's recommended you start with something simple first. If you wish to do more, come back to it after you've completed the rest of the sections."
   ]
  },
  {
   "cell_type": "code",
   "execution_count": 309,
   "metadata": {
    "collapsed": false
   },
   "outputs": [
    {
     "data": {
      "image/png": "[encoded data removed]",
      "text/plain": [
       "<matplotlib.figure.Figure at 0x7f79f6f26e48>"
      ]
     },
     "metadata": {},
     "output_type": "display_data"
    },
    {
     "name": "stdout",
     "output_type": "stream",
     "text": [
      "40\n"
     ]
    }
   ],
   "source": [
    "### Data exploration visualization code goes here.\n",
    "### Feel free to use as many code cells as needed.\n",
    "import matplotlib.pyplot as plt\n",
    "import random\n",
    "# Visualizations will be shown in the notebook.\n",
    "index = random.randint(0, len(X_train))\n",
    "image = X_train[index].squeeze()\n",
    "plt.figure(figsize=(1,1))\n",
    "plt.imshow(image)\n",
    "plt.show()\n",
    "print(y_train[index])\n",
    "%matplotlib inline"
   ]
  },
  {
   "cell_type": "markdown",
   "metadata": {},
   "source": [
    "----\n",
    "\n",
    "## Step 2: Design and Test a Model Architecture\n",
    "\n",
    "Design and implement a deep learning model that learns to recognize traffic signs. Train and test your model on the [German Traffic Sign Dataset](http://benchmark.ini.rub.de/?section=gtsrb&subsection=dataset).\n",
    "\n",
    "There are various aspects to consider when thinking about this problem:\n",
    "\n",
    "- Neural network architecture\n",
    "- Play around preprocessing techniques (normalization, rgb to grayscale, etc)\n",
    "- Number of examples per label (some have more than others).\n",
    "- Generate fake data.\n",
    "\n",
    "Here is an example of a [published baseline model on this problem](http://yann.lecun.com/exdb/publis/pdf/sermanet-ijcnn-11.pdf). It's not required to be familiar with the approach used in the paper but, it's good practice to try to read papers like these.\n",
    "\n",
    "**NOTE:** The LeNet-5 implementation shown in the [classroom](https://classroom.udacity.com/nanodegrees/nd013/parts/fbf77062-5703-404e-b60c-95b78b2f3f9e/modules/6df7ae49-c61c-4bb2-a23e-6527e69209ec/lessons/601ae704-1035-4287-8b11-e2c2716217ad/concepts/d4aca031-508f-4e0b-b493-e7b706120f81) at the end of the CNN lesson is a solid starting point. You'll have to change the number of classes and possibly the preprocessing, but aside from that it's plug and play!"
   ]
  },
  {
   "cell_type": "markdown",
   "metadata": {},
   "source": [
    "### Pre-process the Data Set (normalization, grayscale, etc.)"
   ]
  },
  {
   "cell_type": "markdown",
   "metadata": {},
   "source": [
    "Use the code cell (or multiple code cells, if necessary) to implement the first step of your project."
   ]
  },
  {
   "cell_type": "code",
   "execution_count": 310,
   "metadata": {
    "collapsed": true
   },
   "outputs": [],
   "source": [
    "### Preprocess the data here. Preprocessing steps could include normalization, converting to grayscale, etc.\n",
    "### Feel free to use as many code cells as needed."
   ]
  },
  {
   "cell_type": "markdown",
   "metadata": {},
   "source": [
    "## Affine transforms"
   ]
  },
  {
   "cell_type": "markdown",
   "metadata": {},
   "source": [
    "### Image rotation by 45deg and -45deg"
   ]
  },
  {
   "cell_type": "code",
   "execution_count": 311,
   "metadata": {
    "collapsed": false
   },
   "outputs": [],
   "source": [
    "import cv2\n",
    "\n",
    "def rotate(images, labels, deg):\n",
    "    ccw_arr = []\n",
    "    cw_arr = []\n",
    "    for index in range(images.shape[0]):\n",
    "        image = images[index]\n",
    "        image_turn_ccw = cv2.warpAffine(image, cv2.getRotationMatrix2D((image.shape[0], image.shape[1]), deg, 1), (image.shape[0], image.shape[1]))\n",
    "        image_turn_cw = cv2.warpAffine(image, cv2.getRotationMatrix2D((image.shape[0], image.shape[1]), -deg, 1), (image.shape[0], image.shape[1]))\n",
    "        ccw_arr.append(image_turn_ccw)\n",
    "        cw_arr.append(image_turn_cw)\n",
    "    ccw_arr = np.asarray(ccw_arr)\n",
    "    images = np.vstack([images, ccw_arr])\n",
    "    cw_arr = np.asarray(cw_arr)\n",
    "    images = np.vstack([images, cw_arr])\n",
    "    labels = np.concatenate([labels, labels, labels])\n",
    "    return images, labels\n",
    "X_train, y_train = rotate(X_train, y_train, 15)\n",
    "X_validation, y_validation = rotate(X_validation, y_validation, 15)\n",
    "X_test, y_test = rotate(X_test, y_test, 15)"
   ]
  },
  {
   "cell_type": "code",
   "execution_count": 312,
   "metadata": {
    "collapsed": false
   },
   "outputs": [],
   "source": [
    "# #Convert uint8 image data to float32\n",
    "X_train = X_train.astype(\"float32\")\n",
    "X_validation = X_validation.astype(\"float32\")\n",
    "X_test = X_test.astype(\"float32\")\n",
    "# #print(X_train[0][0][0])"
   ]
  },
  {
   "cell_type": "markdown",
   "metadata": {},
   "source": [
    "### Mean Subtraction"
   ]
  },
  {
   "cell_type": "code",
   "execution_count": 313,
   "metadata": {
    "collapsed": false
   },
   "outputs": [],
   "source": [
    "def mean_subtract(X_train, X_validation, X_test, combined_mean=False):\n",
    "    if(combined_mean):\n",
    "        #1 Calculate mean across all channels(RGB) at once and then subtracting it from every pixel\n",
    "        #1.1 Calculate mean\n",
    "        mean_all_channels = np.mean(X_train, dtype=\"float32\")\n",
    "        #1.2 Subtract mean\n",
    "        X_train -= mean_all_channels\n",
    "        X_validation -= mean_all_channels\n",
    "        X_test -= mean_all_channels\n",
    "        #print(mean_all_channels)\n",
    "    else:\n",
    "        #2 Calculate mean across each channel (R, G and B respectively) and subtract from corresponding channels\n",
    "        #2.1 Split channels\n",
    "        channel_red_train, channel_red_validation, channel_red_test = X_train[:,:,:,0], X_validation[:,:,:,0], X_test[:,:,:,0]\n",
    "        channel_green_train, channel_green_validation, channel_green_test = X_train[:,:,:,1], X_validation[:,:,:,1], X_test[:,:,:,1]\n",
    "        channel_blue_train, channel_blue_validation, channel_blue_test = X_train[:,:,:,2], X_validation[:,:,:,2], X_test[:,:,:,2]\n",
    "\n",
    "        #2.2 Calculate mean only on training data\n",
    "        mean_red = np.mean(channel_red_train)\n",
    "        mean_green = np.mean(channel_green_train)\n",
    "        mean_blue = np.mean(channel_blue_train)\n",
    "        #2.2 Subtract mean\n",
    "        #Training\n",
    "        channel_red_train -= mean_red\n",
    "        channel_green_train -= mean_green\n",
    "        channel_blue_train -= mean_blue\n",
    "        #Validation\n",
    "        channel_red_validation -= mean_red\n",
    "        channel_green_validation -= mean_green\n",
    "        channel_blue_validation -= mean_blue\n",
    "        #Test\n",
    "        channel_red_test -= mean_red\n",
    "        channel_green_test -= mean_green\n",
    "        channel_blue_test -= mean_blue\n",
    "\n",
    "        #2.3 Concatenate all the channels\n",
    "        X_train = np.concatenate((channel_red_train[:,:,:,None], channel_green_train[:,:,:,None], channel_blue_train[:,:,:,None]), axis=3)\n",
    "        X_validation = np.concatenate((channel_red_validation[:,:,:,None], channel_green_validation[:,:,:,None], channel_blue_validation[:,:,:,None]), axis=3)\n",
    "        X_test = np.concatenate((channel_red_test[:,:,:,None], channel_green_test[:,:,:,None], channel_blue_test[:,:,:,None]), axis=3)\n",
    "    \n",
    "    return X_train, X_validation, X_test\n",
    "X_train, X_validation, X_test = mean_subtract(X_train, X_validation, X_test, True)\n"
   ]
  },
  {
   "cell_type": "markdown",
   "metadata": {},
   "source": [
    "### Normalization"
   ]
  },
  {
   "cell_type": "code",
   "execution_count": 314,
   "metadata": {
    "collapsed": false
   },
   "outputs": [],
   "source": [
    "#Calculate standard deviation of all channels in training data set\n",
    "stddev_training = np.std(X_train)\n",
    "X_train /= stddev_training\n",
    "X_validation /= stddev_training\n",
    "X_test /= stddev_training\n",
    "#print(stddev_training)"
   ]
  },
  {
   "cell_type": "markdown",
   "metadata": {},
   "source": [
    "### Model Architecture"
   ]
  },
  {
   "cell_type": "code",
   "execution_count": 315,
   "metadata": {
    "collapsed": true
   },
   "outputs": [],
   "source": [
    "### Define your architecture here.\n",
    "### Feel free to use as many code cells as needed."
   ]
  },
  {
   "cell_type": "markdown",
   "metadata": {},
   "source": [
    "### Define and declare hyper parameters for architecture here"
   ]
  },
  {
   "cell_type": "code",
   "execution_count": 316,
   "metadata": {
    "collapsed": false
   },
   "outputs": [],
   "source": [
    "import tensorflow as tf\n",
    "mu = 0\n",
    "sigma = 0.1\n",
    "dropout_keep_prob = 0.5"
   ]
  },
  {
   "cell_type": "markdown",
   "metadata": {},
   "source": [
    "### Network architecture. Starting with LeNet"
   ]
  },
  {
   "cell_type": "code",
   "execution_count": 317,
   "metadata": {
    "collapsed": false
   },
   "outputs": [],
   "source": [
    "from tensorflow.contrib.layers import flatten\n",
    "def run_network_arch (x, weights, biases):\n",
    "\n",
    "    #Convolutional layer - I. Input is 32x32x3. Output is 28x28x16\n",
    "    conv1 = tf.nn.conv2d(x, weights[\"wconv1\"], strides=[1, 1, 1, 1], padding=\"VALID\") #+ biases[\"bconv1\"]\n",
    "    conv1 = tf.nn.bias_add(conv1, biases[\"bconv1\"])\n",
    "    \n",
    "    # ReLU Activation - I\n",
    "    conv1 = tf.nn.elu(conv1)\n",
    "\n",
    "    # Pooling. Input is 28x28x16. Output is 14x14x16.\n",
    "    pool1 = tf.nn.avg_pool(conv1, ksize=[1, 2, 2, 1], strides=[1, 2, 2, 1], padding='VALID')\n",
    "    \n",
    "    # Convolutional Layer II. Input is 14x14x16. Output is 12x12x32.\n",
    "    conv2 = tf.nn.conv2d(pool1, weights[\"wconv2\"], strides=[1, 1, 1, 1], padding='VALID') #+ biases[\"bconv2\"]\n",
    "    conv2 = tf.nn.bias_add(conv2, biases[\"bconv2\"])\n",
    "    \n",
    "    # ReLU Activation - II\n",
    "    conv2 = tf.nn.elu(conv2)\n",
    "\n",
    "    # Pooling. Input = 12x12x32. Output = 6x6x32.\n",
    "    pool2 = tf.nn.avg_pool(conv2, ksize=[1, 2, 2, 1], strides=[1, 2, 2, 1], padding='VALID')\n",
    "    \n",
    "    # Convolutional Layer III. Input is 6x6x32. Output is 4x4x64.\n",
    "    conv3 = tf.nn.conv2d(pool2, weights[\"wconv3\"], strides=[1, 1, 1, 1], padding='VALID') #+ biases[\"bconv2\"]\n",
    "    conv3 = tf.nn.bias_add(conv3, biases[\"bconv3\"])\n",
    "    \n",
    "    # ReLU Activation - II\n",
    "    conv3 = tf.nn.elu(conv3)\n",
    "\n",
    "    # Pooling. Input = 4x4x64. Output = 3x3x64.\n",
    "    pool3 = tf.nn.avg_pool(conv3, ksize=[1, 2, 2, 1], strides=[1, 1, 1, 1], padding='VALID')\n",
    "\n",
    "    # Flatten. Input = 3x3x64. Output = 576.\n",
    "    flat = flatten(pool3)\n",
    "    \n",
    "    # Fully Connected Layer - I. Input = 576. Output = 384.\n",
    "    fc1 = tf.add(tf.matmul(flat, weights[\"wfull1\"]), biases[\"bfull1\"])\n",
    "    \n",
    "    # ReLU Activation - III\n",
    "    fc1 = tf.nn.elu(fc1)\n",
    "    \n",
    "    #Dropout-I\n",
    "    fc1 = tf.nn.dropout(fc1, keep_prob=dropout_keep_prob)\n",
    "\n",
    "    # Fully Connected Layer - II. Input = 384. Output = 120.\n",
    "    fc2 = tf.add(tf.matmul(fc1, weights[\"wfull2\"]), biases[\"bfull2\"])\n",
    "    \n",
    "    # ReLU Activation - IV\n",
    "    fc2 = tf.nn.elu(fc2)\n",
    "    \n",
    "    #Dropout-II\n",
    "    fc2 = tf.nn.dropout(fc2, keep_prob=dropout_keep_prob)\n",
    "    \n",
    "    # Fully Connected Layer III\n",
    "    \n",
    "    fc3 = tf.add(tf.matmul(fc2, weights[\"wfull3\"]), biases[\"bfull3\"])\n",
    "    \n",
    "    #ReLU\n",
    "    fc3 = tf.nn.elu(fc3)\n",
    "    \n",
    "    #Dropout-III\n",
    "    fc3 = tf.nn.dropout(fc3, keep_prob=dropout_keep_prob)\n",
    "\n",
    "    # Fully Connected Layer - III. Input = 120. Output = 43.\n",
    "    logits = tf.add(tf.matmul(fc3, weights[\"wfull4\"]), biases[\"bfull4\"])\n",
    "    #logits = tf.matmul(fc2, weights[\"wfull3\"]) + biases[\"bfull3\"]\n",
    "    \n",
    "    return logits"
   ]
  },
  {
   "cell_type": "markdown",
   "metadata": {},
   "source": [
    "### Train, Validate and Test the Model"
   ]
  },
  {
   "cell_type": "markdown",
   "metadata": {},
   "source": [
    "A validation set can be used to assess how well the model is performing. A low accuracy on the training and validation\n",
    "sets imply underfitting. A high accuracy on the training set but low accuracy on the validation set implies overfitting."
   ]
  },
  {
   "cell_type": "code",
   "execution_count": 318,
   "metadata": {
    "collapsed": true
   },
   "outputs": [],
   "source": [
    "### Train your model here.\n",
    "### Calculate and report the accuracy on the training and validation set.\n",
    "### Once a final model architecture is selected, \n",
    "### the accuracy on the test set should be calculated and reported as well.\n",
    "### Feel free to use as many code cells as needed."
   ]
  },
  {
   "cell_type": "markdown",
   "metadata": {},
   "source": [
    "### Define and declare hyper parameters for training here"
   ]
  },
  {
   "cell_type": "code",
   "execution_count": 319,
   "metadata": {
    "collapsed": true
   },
   "outputs": [],
   "source": [
    "learning_rate = 0.0005\n",
    "batch_size = 64\n",
    "num_of_epochs = 40\n",
    "l2_regularize_penalty = 0.001"
   ]
  },
  {
   "cell_type": "markdown",
   "metadata": {},
   "source": [
    "### Declare TensorFlow model"
   ]
  },
  {
   "cell_type": "code",
   "execution_count": 320,
   "metadata": {
    "collapsed": false
   },
   "outputs": [],
   "source": [
    "from tensorflow.contrib.layers import xavier_initializer\n",
    "tf.reset_default_graph()\n",
    "x = tf.placeholder(tf.float32, (None, 32, 32, 3))\n",
    "y = tf.placeholder(tf.int32, (None))\n",
    "one_hot_labels = tf.one_hot(y, n_classes)\n",
    "#Declare weights here\n",
    "weights = {\n",
    "    #\"wconv1\": tf.Variable(tf.truncated_normal(shape=(5, 5, 3, 6), mean=mu, stddev=sigma), name=\"wconv1\"),\n",
    "    #\"wconv2\": tf.Variable(tf.truncated_normal(shape=(5, 5, 6, 16), mean=mu, stddev=sigma), name=\"wconv2\"),\n",
    "    #\"wfull1\": tf.Variable(tf.truncated_normal(shape=(400, 120), mean=mu, stddev=sigma), name=\"wfull1\"),\n",
    "    #\"wfull2\": tf.Variable(tf.truncated_normal(shape=(120, 84), mean=mu, stddev=sigma), name=\"wfull2\"),\n",
    "    #\"wfull3\": tf.Variable(tf.truncated_normal(shape=(84, n_classes), mean=mu, stddev=sigma), name=\"wfull3\"),\n",
    "    #\"wconv1\": tf.Variable(tf.truncated_normal(shape=(5, 5, 3, 6))),\n",
    "    #\"wconv2\": tf.Variable(tf.truncated_normal(shape=(5, 5, 6, 16))),\n",
    "    #\"wfull1\": tf.Variable(tf.truncated_normal(shape=(400, 120))),\n",
    "    #\"wfull2\": tf.Variable(tf.truncated_normal(shape=(120, 84))),\n",
    "    #\"wfull3\": tf.Variable(tf.truncated_normal(shape=(84, n_classes)))\n",
    "    \"wconv1\": tf.Variable(tf.random_uniform(shape=(5, 5, 3, 16), minval= -2.45/np.sqrt(batch_size*32*32*3), maxval=2.45/np.sqrt(batch_size*32*32*3))),\n",
    "    \"wconv2\": tf.Variable(tf.random_uniform(shape=(3, 3, 16, 32), minval= -2.45/np.sqrt(batch_size*14*14*16), maxval=2.45/np.sqrt(batch_size*14*14*16))),\n",
    "    \"wconv3\": tf.Variable(tf.random_uniform(shape=(3, 3, 32, 64), minval= -2.45/np.sqrt(batch_size*14*14*32), maxval=2.45/np.sqrt(batch_size*14*14*32))),\n",
    "    \"wfull1\": tf.Variable(tf.random_uniform(shape=(576, 384), minval= -2.45/np.sqrt(batch_size*576), maxval=2.45/np.sqrt(batch_size*576))),\n",
    "    \"wfull2\": tf.Variable(tf.random_uniform(shape=(384, 240), minval= -2.45/np.sqrt(batch_size*384), maxval=2.45/np.sqrt(batch_size*384))),\n",
    "    \"wfull3\": tf.Variable(tf.random_uniform(shape=(240, 120), minval= -2.45/np.sqrt(batch_size*240), maxval=2.45/np.sqrt(batch_size*240))),\n",
    "    \"wfull4\": tf.Variable(tf.random_uniform(shape=(120, n_classes), minval= -2.45/np.sqrt(batch_size*120), maxval=2.45/np.sqrt(batch_size*120)))\n",
    "}\n",
    "#Declare biases here\n",
    "biases = {\n",
    "    \"bconv1\": tf.Variable(tf.zeros(16)),\n",
    "    \"bconv2\": tf.Variable(tf.zeros(32)),\n",
    "    \"bconv3\": tf.Variable(tf.zeros(64)),\n",
    "    \"bfull1\": tf.Variable(tf.zeros(384)),\n",
    "    \"bfull2\": tf.Variable(tf.zeros(240)),\n",
    "    \"bfull3\": tf.Variable(tf.zeros(120)),\n",
    "    \"bfull4\": tf.Variable(tf.zeros(n_classes))\n",
    "}"
   ]
  },
  {
   "cell_type": "markdown",
   "metadata": {},
   "source": [
    "### Training Pipeline"
   ]
  },
  {
   "cell_type": "code",
   "execution_count": 321,
   "metadata": {
    "collapsed": false
   },
   "outputs": [],
   "source": [
    "logits = run_network_arch(x, weights, biases)\n",
    "cross_entropy = tf.nn.softmax_cross_entropy_with_logits(logits, one_hot_labels)\n",
    "l2_regularizer = tf.Variable(0.0)\n",
    "#Apply L2 regularization\n",
    "for layer in weights:\n",
    "    l2_regularizer += tf.nn.l2_loss(weights[layer])\n",
    "loss_operation = tf.reduce_mean(cross_entropy + l2_regularize_penalty*l2_regularizer)\n",
    "#loss_operation = tf.reduce_mean(cross_entropy)\n",
    "optimizer = tf.train.AdamOptimizer(learning_rate = learning_rate)\n",
    "#optimizer = tf.train.AdagradOptimizer(learning_rate = learning_rate)\n",
    "training_operation = optimizer.minimize(loss_operation)"
   ]
  },
  {
   "cell_type": "markdown",
   "metadata": {},
   "source": [
    "### Evalute performance"
   ]
  },
  {
   "cell_type": "code",
   "execution_count": 322,
   "metadata": {
    "collapsed": false
   },
   "outputs": [],
   "source": [
    "correct_prediction = tf.equal(tf.argmax(logits, 1), tf.argmax(one_hot_labels, 1))\n",
    "accuracy_operation = tf.reduce_mean(tf.cast(correct_prediction, tf.float32))\n",
    "\n",
    "def evaluate(X_data, y_data):\n",
    "    num_examples = len(X_data)\n",
    "    total_accuracy = 0\n",
    "    for offset in range(0, num_examples, batch_size):\n",
    "        batch_x, batch_y = X_data[offset:offset + batch_size], y_data[offset:offset + batch_size]\n",
    "        accuracy = sess.run(accuracy_operation, feed_dict={x: batch_x, y: batch_y})\n",
    "        total_accuracy += (accuracy * len(batch_x))\n",
    "    return total_accuracy / num_examples"
   ]
  },
  {
   "cell_type": "markdown",
   "metadata": {},
   "source": [
    "### Train in TensorFlow session"
   ]
  },
  {
   "cell_type": "code",
   "execution_count": 323,
   "metadata": {
    "collapsed": false
   },
   "outputs": [
    {
     "name": "stdout",
     "output_type": "stream",
     "text": [
      "Training...\n",
      "Training accuracy for Epoch is:\n",
      "0.369464639793\n",
      "Validation accuracy for Epoch is:\n",
      "0.330763416536\n",
      "===============================\n",
      "Training accuracy for Epoch is:\n",
      "0.60377213905\n",
      "Validation accuracy for Epoch is:\n",
      "0.563340891732\n",
      "===============================\n",
      "Training accuracy for Epoch is:\n",
      "0.73270304703\n",
      "Validation accuracy for Epoch is:\n",
      "0.666817838219\n",
      "===============================\n",
      "Training accuracy for Epoch is:\n",
      "0.811325995966\n",
      "Validation accuracy for Epoch is:\n",
      "0.733408919114\n",
      "===============================\n",
      "Training accuracy for Epoch is:\n",
      "0.857390538051\n",
      "Validation accuracy for Epoch is:\n",
      "0.774603174594\n",
      "===============================\n",
      "Training accuracy for Epoch is:\n",
      "0.886682567507\n",
      "Validation accuracy for Epoch is:\n",
      "0.808390022757\n",
      "===============================\n",
      "Training accuracy for Epoch is:\n",
      "0.904709905458\n",
      "Validation accuracy for Epoch is:\n",
      "0.826001511689\n",
      "===============================\n",
      "Training accuracy for Epoch is:\n",
      "0.91808193722\n",
      "Validation accuracy for Epoch is:\n",
      "0.843764172291\n",
      "===============================\n",
      "Training accuracy for Epoch is:\n",
      "0.930381141221\n",
      "Validation accuracy for Epoch is:\n",
      "0.855706727054\n",
      "===============================\n",
      "Training accuracy for Epoch is:\n",
      "0.938532716457\n",
      "Validation accuracy for Epoch is:\n",
      "0.85933484495\n",
      "===============================\n",
      "Training accuracy for Epoch is:\n",
      "0.939126603255\n",
      "Validation accuracy for Epoch is:\n",
      "0.847996976541\n",
      "===============================\n",
      "Training accuracy for Epoch is:\n",
      "0.951569489545\n",
      "Validation accuracy for Epoch is:\n",
      "0.878609221349\n",
      "===============================\n",
      "Training accuracy for Epoch is:\n",
      "0.954069561386\n",
      "Validation accuracy for Epoch is:\n",
      "0.876568405113\n",
      "===============================\n",
      "Training accuracy for Epoch is:\n",
      "0.945563569842\n",
      "Validation accuracy for Epoch is:\n",
      "0.873091458797\n",
      "===============================\n",
      "Training accuracy for Epoch is:\n",
      "0.959395384925\n",
      "Validation accuracy for Epoch is:\n",
      "0.874603174504\n",
      "===============================\n",
      "Training accuracy for Epoch is:\n",
      "0.961905035585\n",
      "Validation accuracy for Epoch is:\n",
      "0.88896447467\n",
      "===============================\n",
      "Training accuracy for Epoch is:\n",
      "0.964156058124\n",
      "Validation accuracy for Epoch is:\n",
      "0.893575207834\n",
      "===============================\n",
      "Training accuracy for Epoch is:\n",
      "0.964692472006\n",
      "Validation accuracy for Epoch is:\n",
      "0.895313680893\n",
      "===============================\n",
      "Training accuracy for Epoch is:\n",
      "0.96547793519\n",
      "Validation accuracy for Epoch is:\n",
      "0.904308389851\n",
      "===============================\n",
      "Training accuracy for Epoch is:\n",
      "0.964539210905\n",
      "Validation accuracy for Epoch is:\n",
      "0.886772486745\n",
      "===============================\n",
      "Training accuracy for Epoch is:\n",
      "0.968399475089\n",
      "Validation accuracy for Epoch is:\n",
      "0.898790627227\n",
      "===============================\n",
      "Training accuracy for Epoch is:\n",
      "0.970315238944\n",
      "Validation accuracy for Epoch is:\n",
      "0.900982615187\n",
      "===============================\n",
      "Training accuracy for Epoch is:\n",
      "0.976311579835\n",
      "Validation accuracy for Epoch is:\n",
      "0.908541194174\n",
      "===============================\n",
      "Training accuracy for Epoch is:\n",
      "0.970535551788\n",
      "Validation accuracy for Epoch is:\n",
      "0.90113378665\n",
      "===============================\n",
      "Training accuracy for Epoch is:\n",
      "0.974549077081\n",
      "Validation accuracy for Epoch is:\n",
      "0.912547240947\n",
      "===============================\n",
      "Training accuracy for Epoch is:\n",
      "0.970966598657\n",
      "Validation accuracy for Epoch is:\n",
      "0.90506424793\n",
      "===============================\n",
      "Training accuracy for Epoch is:\n",
      "0.971464697261\n",
      "Validation accuracy for Epoch is:\n",
      "0.902721088327\n",
      "===============================\n",
      "Training accuracy for Epoch is:\n",
      "0.975075912143\n",
      "Validation accuracy for Epoch is:\n",
      "0.910582010411\n",
      "===============================\n",
      "Training accuracy for Epoch is:\n",
      "0.969912928532\n",
      "Validation accuracy for Epoch is:\n",
      "0.902645502537\n",
      "===============================\n",
      "Training accuracy for Epoch is:\n",
      "0.969443566394\n",
      "Validation accuracy for Epoch is:\n",
      "0.8980347694\n",
      "===============================\n",
      "Training accuracy for Epoch is:\n",
      "0.970554709427\n",
      "Validation accuracy for Epoch is:\n",
      "0.89652305363\n",
      "===============================\n",
      "Training accuracy for Epoch is:\n",
      "0.974625707635\n",
      "Validation accuracy for Epoch is:\n",
      "0.916250944705\n",
      "===============================\n",
      "Training accuracy for Epoch is:\n",
      "0.977451459341\n",
      "Validation accuracy for Epoch is:\n",
      "0.916780045324\n",
      "===============================\n",
      "Training accuracy for Epoch is:\n",
      "0.97888828223\n",
      "Validation accuracy for Epoch is:\n",
      "0.920408163094\n",
      "===============================\n",
      "Training accuracy for Epoch is:\n",
      "0.975765587134\n",
      "Validation accuracy for Epoch is:\n",
      "0.913756613676\n",
      "===============================\n",
      "Training accuracy for Epoch is:\n",
      "0.961454831078\n",
      "Validation accuracy for Epoch is:\n",
      "0.904383975731\n",
      "===============================\n",
      "Training accuracy for Epoch is:\n",
      "0.978256080156\n",
      "Validation accuracy for Epoch is:\n",
      "0.908087679453\n",
      "===============================\n",
      "Training accuracy for Epoch is:\n",
      "0.976206212822\n",
      "Validation accuracy for Epoch is:\n",
      "0.919879062655\n",
      "===============================\n",
      "Training accuracy for Epoch is:\n",
      "0.976876730174\n",
      "Validation accuracy for Epoch is:\n",
      "0.925623582721\n",
      "===============================\n",
      "Training accuracy for Epoch is:\n",
      "0.979798270065\n",
      "Validation accuracy for Epoch is:\n",
      "0.913756613712\n",
      "===============================\n"
     ]
    }
   ],
   "source": [
    "from sklearn.utils import shuffle\n",
    "saver = tf.train.Saver()\n",
    "with tf.Session() as sess:\n",
    "    print(\"Training...\")\n",
    "    sess.run(tf.global_variables_initializer())\n",
    "    for i in range(num_of_epochs):\n",
    "        X_train, y_train = shuffle(X_train, y_train)\n",
    "        for offset in range(0, len(X_train), batch_size):\n",
    "            current_input_batch = X_train[offset: offset + batch_size]\n",
    "            current_labels_batch = y_train[offset: offset + batch_size]\n",
    "            #print(current_input_batch, current_labels_batch)\n",
    "            sess.run(training_operation, feed_dict={x: current_input_batch, y: current_labels_batch})\n",
    "            #print(\"Batch ---- \" + str(offset))\n",
    "\n",
    "        training_accuracy = evaluate(X_train, y_train)\n",
    "        print(\"Training accuracy for Epoch is:\")\n",
    "        print(training_accuracy)\n",
    "        validation_accuracy = evaluate(X_validation, y_validation)\n",
    "        print(\"Validation accuracy for Epoch is:\")\n",
    "        print(validation_accuracy)\n",
    "        print(\"===============================\")\n",
    "    #test_accuracy = evaluate(X_test, y_test)\n",
    "    saver.save(sess, './xavier.ckpt')\n",
    "    "
   ]
  },
  {
   "cell_type": "markdown",
   "metadata": {},
   "source": [
    "## Find accuracy on test dataset"
   ]
  },
  {
   "cell_type": "markdown",
   "metadata": {},
   "source": [
    "### Re-declare placeholders and variables here"
   ]
  },
  {
   "cell_type": "code",
   "execution_count": 324,
   "metadata": {
    "collapsed": false
   },
   "outputs": [],
   "source": [
    "tf.reset_default_graph()\n",
    "from tensorflow.contrib.layers import xavier_initializer\n",
    "tf.reset_default_graph()\n",
    "x = tf.placeholder(tf.float32, (None, 32, 32, 3))\n",
    "y = tf.placeholder(tf.int32, (None))\n",
    "one_hot_labels = tf.one_hot(y, n_classes)\n",
    "#Declare weights here\n",
    "weights = {\n",
    "    \"wconv1\": tf.Variable(tf.random_uniform(shape=(5, 5, 3, 16), minval= -2.45/np.sqrt(batch_size*32*32*3), maxval=2.45/np.sqrt(batch_size*32*32*3))),\n",
    "    \"wconv2\": tf.Variable(tf.random_uniform(shape=(3, 3, 16, 32), minval= -2.45/np.sqrt(batch_size*14*14*16), maxval=2.45/np.sqrt(batch_size*14*14*16))),\n",
    "    \"wconv3\": tf.Variable(tf.random_uniform(shape=(3, 3, 32, 64), minval= -2.45/np.sqrt(batch_size*14*14*32), maxval=2.45/np.sqrt(batch_size*14*14*32))),\n",
    "    \"wfull1\": tf.Variable(tf.random_uniform(shape=(576, 384), minval= -2.45/np.sqrt(batch_size*576), maxval=2.45/np.sqrt(batch_size*576))),\n",
    "    \"wfull2\": tf.Variable(tf.random_uniform(shape=(384, 240), minval= -2.45/np.sqrt(batch_size*384), maxval=2.45/np.sqrt(batch_size*384))),\n",
    "    \"wfull3\": tf.Variable(tf.random_uniform(shape=(240, 120), minval= -2.45/np.sqrt(batch_size*240), maxval=2.45/np.sqrt(batch_size*240))),\n",
    "    \"wfull4\": tf.Variable(tf.random_uniform(shape=(120, n_classes), minval= -2.45/np.sqrt(batch_size*120), maxval=2.45/np.sqrt(batch_size*120)))\n",
    "}\n",
    "#Declare biases here\n",
    "biases = {\n",
    "    \"bconv1\": tf.Variable(tf.zeros(16)),\n",
    "    \"bconv2\": tf.Variable(tf.zeros(32)),\n",
    "    \"bconv3\": tf.Variable(tf.zeros(64)),\n",
    "    \"bfull1\": tf.Variable(tf.zeros(384)),\n",
    "    \"bfull2\": tf.Variable(tf.zeros(240)),\n",
    "    \"bfull3\": tf.Variable(tf.zeros(120)),\n",
    "    \"bfull4\": tf.Variable(tf.zeros(n_classes))\n",
    "}\n",
    "logits = run_network_arch(x, weights, biases)\n",
    "correct_prediction = tf.equal(tf.argmax(logits, 1), tf.argmax(one_hot_labels, 1))\n",
    "accuracy_operation = tf.reduce_mean(tf.cast(correct_prediction, tf.float32))"
   ]
  },
  {
   "cell_type": "markdown",
   "metadata": {},
   "source": [
    "### Evaluate performance on test data set"
   ]
  },
  {
   "cell_type": "code",
   "execution_count": 329,
   "metadata": {
    "collapsed": false,
    "scrolled": true
   },
   "outputs": [
    {
     "name": "stdout",
     "output_type": "stream",
     "text": [
      "Test accuracy is: 0.900184745315\n"
     ]
    }
   ],
   "source": [
    "saver = tf.train.Saver()\n",
    "with tf.Session() as sess:\n",
    "    saver.restore(sess, './xavier.ckpt')\n",
    "    test_accuracy = evaluate(X_test, y_test)\n",
    "    print(\"Test accuracy is: \" + str(test_accuracy))\n",
    "    "
   ]
  },
  {
   "cell_type": "markdown",
   "metadata": {},
   "source": [
    "---\n",
    "\n",
    "## Step 3: Test a Model on New Images\n",
    "\n",
    "To give yourself more insight into how your model is working, download at least five pictures of German traffic signs from the web and use your model to predict the traffic sign type.\n",
    "\n",
    "You may find `signnames.csv` useful as it contains mappings from the class id (integer) to the actual sign name."
   ]
  },
  {
   "cell_type": "markdown",
   "metadata": {},
   "source": [
    "### Load and Output the Images"
   ]
  },
  {
   "cell_type": "code",
   "execution_count": 59,
   "metadata": {
    "collapsed": true
   },
   "outputs": [],
   "source": [
    "### Load the images and plot them here.\n",
    "### Feel free to use as many code cells as needed."
   ]
  },
  {
   "cell_type": "markdown",
   "metadata": {},
   "source": [
    "### Predict the Sign Type for Each Image"
   ]
  },
  {
   "cell_type": "code",
   "execution_count": 60,
   "metadata": {
    "collapsed": true
   },
   "outputs": [],
   "source": [
    "### Run the predictions here and use the model to output the prediction for each image.\n",
    "### Make sure to pre-process the images with the same pre-processing pipeline used earlier.\n",
    "### Feel free to use as many code cells as needed."
   ]
  },
  {
   "cell_type": "markdown",
   "metadata": {},
   "source": [
    "### Analyze Performance"
   ]
  },
  {
   "cell_type": "code",
   "execution_count": 61,
   "metadata": {
    "collapsed": true
   },
   "outputs": [],
   "source": [
    "### Calculate the accuracy for these 5 new images. \n",
    "### For example, if the model predicted 1 out of 5 signs correctly, it's 20% accurate on these new images."
   ]
  },
  {
   "cell_type": "markdown",
   "metadata": {},
   "source": [
    "### Output Top 5 Softmax Probabilities For Each Image Found on the Web"
   ]
  },
  {
   "cell_type": "markdown",
   "metadata": {},
   "source": [
    "For each of the new images, print out the model's softmax probabilities to show the **certainty** of the model's predictions (limit the output to the top 5 probabilities for each image). [`tf.nn.top_k`](https://www.tensorflow.org/versions/r0.12/api_docs/python/nn.html#top_k) could prove helpful here. \n",
    "\n",
    "The example below demonstrates how tf.nn.top_k can be used to find the top k predictions for each image.\n",
    "\n",
    "`tf.nn.top_k` will return the values and indices (class ids) of the top k predictions. So if k=3, for each sign, it'll return the 3 largest probabilities (out of a possible 43) and the correspoding class ids.\n",
    "\n",
    "Take this numpy array as an example. The values in the array represent predictions. The array contains softmax probabilities for five candidate images with six possible classes. `tk.nn.top_k` is used to choose the three classes with the highest probability:\n",
    "\n",
    "```\n",
    "# (5, 6) array\n",
    "a = np.array([[ 0.24879643,  0.07032244,  0.12641572,  0.34763842,  0.07893497,\n",
    "         0.12789202],\n",
    "       [ 0.28086119,  0.27569815,  0.08594638,  0.0178669 ,  0.18063401,\n",
    "         0.15899337],\n",
    "       [ 0.26076848,  0.23664738,  0.08020603,  0.07001922,  0.1134371 ,\n",
    "         0.23892179],\n",
    "       [ 0.11943333,  0.29198961,  0.02605103,  0.26234032,  0.1351348 ,\n",
    "         0.16505091],\n",
    "       [ 0.09561176,  0.34396535,  0.0643941 ,  0.16240774,  0.24206137,\n",
    "         0.09155967]])\n",
    "```\n",
    "\n",
    "Running it through `sess.run(tf.nn.top_k(tf.constant(a), k=3))` produces:\n",
    "\n",
    "```\n",
    "TopKV2(values=array([[ 0.34763842,  0.24879643,  0.12789202],\n",
    "       [ 0.28086119,  0.27569815,  0.18063401],\n",
    "       [ 0.26076848,  0.23892179,  0.23664738],\n",
    "       [ 0.29198961,  0.26234032,  0.16505091],\n",
    "       [ 0.34396535,  0.24206137,  0.16240774]]), indices=array([[3, 0, 5],\n",
    "       [0, 1, 4],\n",
    "       [0, 5, 1],\n",
    "       [1, 3, 5],\n",
    "       [1, 4, 3]], dtype=int32))\n",
    "```\n",
    "\n",
    "Looking just at the first row we get `[ 0.34763842,  0.24879643,  0.12789202]`, you can confirm these are the 3 largest probabilities in `a`. You'll also notice `[3, 0, 5]` are the corresponding indices."
   ]
  },
  {
   "cell_type": "code",
   "execution_count": 62,
   "metadata": {
    "collapsed": true
   },
   "outputs": [],
   "source": [
    "### Print out the top five softmax probabilities for the predictions on the German traffic sign images found on the web. \n",
    "### Feel free to use as many code cells as needed."
   ]
  },
  {
   "cell_type": "markdown",
   "metadata": {},
   "source": [
    "> **Note**: Once you have completed all of the code implementations and successfully answered each question above, you may finalize your work by exporting the iPython Notebook as an HTML document. You can do this by using the menu above and navigating to  \\n\",\n",
    "    \"**File -> Download as -> HTML (.html)**. Include the finished document along with this notebook as your submission."
   ]
  },
  {
   "cell_type": "markdown",
   "metadata": {},
   "source": [
    "### Project Writeup\n",
    "\n",
    "Once you have completed the code implementation, document your results in a project writeup using this [template](https://github.com/udacity/CarND-Traffic-Sign-Classifier-Project/blob/master/writeup_template.md) as a guide. The writeup can be in a markdown or pdf file. "
   ]
  }
 ],
 "metadata": {
  "anaconda-cloud": {},
  "kernelspec": {
   "display_name": "Python 3",
   "language": "python",
   "name": "python3"
  },
  "language_info": {
   "codemirror_mode": {
    "name": "ipython",
    "version": 3
   },
   "file_extension": ".py",
   "mimetype": "text/x-python",
   "name": "python",
   "nbconvert_exporter": "python",
   "pygments_lexer": "ipython3",
   "version": "3.5.2"
  },
  "widgets": {
   "state": {},
   "version": "1.1.2"
  }
 },
 "nbformat": 4,
 "nbformat_minor": 1
}
